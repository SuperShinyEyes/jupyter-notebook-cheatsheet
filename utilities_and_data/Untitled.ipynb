{
 "cells": [
  {
   "cell_type": "code",
   "execution_count": null,
   "metadata": {
    "collapsed": true
   },
   "outputs": [],
   "source": [
    "import os, sys\n",
    "import pystan\n",
    "\n",
    "def get_stan_model(model_name, model_code):\n",
    "    path = os.path.abspath(os.path.join(os.path.curdir, model_name))\n",
    "\n",
    "    if os.path.exists(path):\n",
    "        return pickle.load(open(path, 'rb'))\n",
    "    \n",
    "    print(\"Path doesn't exist\")\n",
    "    sm = pystan.StanModel(model_code=model_code)\n",
    "    with open(model_name, 'wb') as f:\n",
    "        pickle.dump(sm, f)\n",
    "    return sm"
   ]
  }
 ],
 "metadata": {
  "kernelspec": {
   "display_name": "Python 3",
   "language": "python",
   "name": "python3"
  },
  "language_info": {
   "codemirror_mode": {
    "name": "ipython",
    "version": 3
   },
   "file_extension": ".py",
   "mimetype": "text/x-python",
   "name": "python",
   "nbconvert_exporter": "python",
   "pygments_lexer": "ipython3",
   "version": "3.6.1"
  }
 },
 "nbformat": 4,
 "nbformat_minor": 2
}
