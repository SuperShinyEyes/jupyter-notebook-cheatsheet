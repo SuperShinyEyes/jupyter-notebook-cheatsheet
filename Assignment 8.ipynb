{
 "cells": [
  {
   "cell_type": "markdown",
   "metadata": {},
   "source": [
    "## For each of the six machines, compute and report the expected utility of the products of that machine."
   ]
  },
  {
   "cell_type": "code",
   "execution_count": 51,
   "metadata": {},
   "outputs": [
    {
     "name": "stdout",
     "output_type": "stream",
     "text": [
      "==Expected utility of the products of six machinee.==\n",
      "1th machine's Expected utility of the products: €-21.20\n",
      "2th machine's Expected utility of the products: €74.05\n",
      "3th machine's Expected utility of the products: €21.70\n",
      "4th machine's Expected utility of the products: €79.00\n",
      "5th machine's Expected utility of the products: €28.90\n",
      "6th machine's Expected utility of the products: €13.45\n"
     ]
    }
   ],
   "source": [
    "six_machines = samples_hierarchical[\"ypred_all\"]\n",
    "utilities_six_machines = (sum(six_machines >= 85) * 200 - len(six_machines)* 100)/len(six_machines)\n",
    "\n",
    "print(\"==Expected utility of the products of six machinee.==\")\n",
    "for i in range(len(utilities_six_machines)):\n",
    "    print(\"{}th machine's Expected utility of the products: €{:.2f}\".format(i+1, utilities_six_machines[i]))\n"
   ]
  },
  {
   "cell_type": "markdown",
   "metadata": {},
   "source": [
    "## Rank the machines based on the expected utilities and explain briefly what these values tell about the quality of these machines. E.g. Tell which machines are profitable and which are not (if any)."
   ]
  },
  {
   "cell_type": "code",
   "execution_count": 54,
   "metadata": {},
   "outputs": [
    {
     "data": {
      "image/png": "[encoded data removed]",
      "text/plain": [
       "<matplotlib.figure.Figure at 0x115ebec50>"
      ]
     },
     "metadata": {},
     "output_type": "display_data"
    }
   ],
   "source": [
    "collabel=(\"Rank\", \"Machine\", \"Expected utility of products(euros)\")\n",
    "the_table = plt.table(cellText=table_values,colLabels=collabel,loc='center')\n",
    "the_table.set_fontsize(24)\n",
    "the_table.scale(2, 2)\n",
    "# the_table.scale(2,4)\n",
    "plt.axis('off')\n",
    "plt.show()"
   ]
  },
  {
   "cell_type": "markdown",
   "metadata": {},
   "source": [
    "## Compute and report the expected utility of the products of a new (7th) machine."
   ]
  },
  {
   "cell_type": "code",
   "execution_count": 56,
   "metadata": {},
   "outputs": [
    {
     "name": "stdout",
     "output_type": "stream",
     "text": [
      "==Expected utility of the products of 7th machine.==\n",
      "7th machine's Expected utility of the products: €32.30\n"
     ]
    }
   ],
   "source": [
    "seventh_machine = samples_hierarchical[\"ypred7\"]\n",
    "utilities_seventh_machine = (sum(seventh_machine >= 85) * 200 - len(seventh_machine)* 100)/len(seventh_machine)\n",
    "\n",
    "print(\"==Expected utility of the products of 7th machine.==\")\n",
    "print(\"7th machine's Expected utility of the products: €{:.2f}\".format(utilities_seventh_machine))"
   ]
  },
  {
   "cell_type": "markdown",
   "metadata": {},
   "source": [
    "## Based on your analysis, discuss briefly whether the company owner should buy a new (7th) machine."
   ]
  },
  {
   "cell_type": "markdown",
   "metadata": {},
   "source": [
    "The expected utility of products is €32.30 which generates profit. Thus the owner should buy a new one. "
   ]
  },
  {
   "cell_type": "markdown",
   "metadata": {},
   "source": [
    "# Appendix"
   ]
  },
  {
   "cell_type": "code",
   "execution_count": 1,
   "metadata": {
    "collapsed": true,
    "slideshow": {
     "slide_type": "-"
    }
   },
   "outputs": [],
   "source": [
    "import numpy as np\n",
    "\n",
    "%matplotlib inline\n",
    "import matplotlib.pyplot as plt\n",
    "\n",
    "import pandas as pd\n",
    "\n",
    "pd.set_option('display.width', 500)\n",
    "pd.set_option('display.max_columns', 100)\n",
    "import seaborn as sns\n",
    "\n",
    "from scipy.stats import distributions\n",
    "\n",
    "import pickle\n",
    "\n",
    "# add utilities directory to path\n",
    "import os, sys\n",
    "util_path = os.path.abspath('utilities_and_data')\n",
    "if util_path not in sys.path and os.path.exists(util_path):\n",
    "    sys.path.insert(0, util_path)\n",
    "\n",
    "# import from utilities\n",
    "import stan_utility\n",
    "import stan_helper\n",
    "\n",
    "import pystan\n",
    "from IPython.display import Image"
   ]
  },
  {
   "cell_type": "code",
   "execution_count": 4,
   "metadata": {
    "collapsed": true
   },
   "outputs": [],
   "source": [
    "def get_stan_model(model_name, model_code, get_new=False):\n",
    "    path = os.path.abspath(os.path.join(os.path.curdir, model_name))\n",
    "\n",
    "    if not get_new and os.path.exists(path):\n",
    "        print(\"Model exists already! Returning pickle.\")\n",
    "        return pickle.load(open(path, 'rb'))\n",
    "    \n",
    "    print(\"Path doesn't exist. Compiling model. It might take few minutes...\")\n",
    "    import pystan\n",
    "    sm = pystan.StanModel(model_code=model_code)\n",
    "    with open(model_name, 'wb') as f:\n",
    "        pickle.dump(sm, f)\n",
    "    return sm\n"
   ]
  },
  {
   "cell_type": "markdown",
   "metadata": {},
   "source": [
    "Load model"
   ]
  },
  {
   "cell_type": "code",
   "execution_count": 5,
   "metadata": {
    "collapsed": true
   },
   "outputs": [],
   "source": [
    "d = np.loadtxt(\"factory.txt\")"
   ]
  },
  {
   "cell_type": "code",
   "execution_count": 42,
   "metadata": {},
   "outputs": [
    {
     "name": "stdout",
     "output_type": "stream",
     "text": [
      "(30,) (30,) 30\n"
     ]
    }
   ],
   "source": [
    "x = np.tile(np.arange(1, 7), d.shape[0])\n",
    "y = d.ravel();y\n",
    "N = len(x)\n",
    "data = dict(\n",
    "    N = N,\n",
    "    K = 6,  # 6 machines\n",
    "    x = x,  # group indicators\n",
    "    y = y,   # observations\n",
    "    target_machine = 6  # 6th machine\n",
    ")\n",
    "print(x.shape,y.shape,N)"
   ]
  },
  {
   "cell_type": "code",
   "execution_count": 43,
   "metadata": {
    "collapsed": true
   },
   "outputs": [],
   "source": [
    "#  Comparison of k groups with common variance and\n",
    "#  hierarchical prior for the mean\n",
    "\n",
    "data_code = '''\n",
    "data {\n",
    "    int<lower=0> N; // number of data points\n",
    "    int<lower=0> K; // number of groups\n",
    "    int<lower=1,upper=K> x[N]; // group indicator\n",
    "    vector[N] y; //\n",
    "    int<lower=0> target_machine;\n",
    "}\n",
    "parameters {\n",
    "    real<lower=70, upper=110> mu0; // uniform prior mean\n",
    "    real<lower=0, upper=20> sigma0; // uniform prior std\n",
    "    vector[K] mu;         // group means\n",
    "    real<lower=0> sigma;  // common std\n",
    "}\n",
    "model {\n",
    "  mu ~ normal(mu0, sigma0); // population prior with unknown parameters\n",
    "  y ~ normal(mu[x], sigma);\n",
    "}\n",
    "generated quantities {\n",
    "  real mu7;\n",
    "  real ypred7;\n",
    "  vector[6] ypred_all;\n",
    "  mu7 = normal_rng(mu0,sigma0);\n",
    "  ypred7 = normal_rng(mu7, sigma);\n",
    "  \n",
    "  for (i in 1:6)\n",
    "    ypred_all[i] = normal_rng(mu[i], sigma);\n",
    "}\n",
    "'''"
   ]
  },
  {
   "cell_type": "code",
   "execution_count": 44,
   "metadata": {},
   "outputs": [
    {
     "name": "stderr",
     "output_type": "stream",
     "text": [
      "INFO:pystan:COMPILING THE C++ CODE FOR MODEL anon_model_682e889ac9e4267f688ef3619eedf005 NOW.\n"
     ]
    },
    {
     "name": "stdout",
     "output_type": "stream",
     "text": [
      "Path doesn't exist. Compiling model. It might take few minutes...\n"
     ]
    }
   ],
   "source": [
    "sm_hierarchical =  get_stan_model(\"factory_hierarchical_posterior\", data_code, get_new=True)\n",
    "# sm_hierarchical =  get_stan_model(\"factory_hierarchical_posterior\", data_code)"
   ]
  },
  {
   "cell_type": "code",
   "execution_count": 45,
   "metadata": {},
   "outputs": [
    {
     "data": {
      "text/plain": [
       "Inference for Stan model: anon_model_682e889ac9e4267f688ef3619eedf005.\n",
       "4 chains, each with iter=2000; warmup=1000; thin=1; \n",
       "post-warmup draws per chain=1000, total post-warmup draws=4000.\n",
       "\n",
       "               mean se_mean     sd   2.5%    25%    50%    75%  97.5%  n_eff   Rhat\n",
       "mu0           92.82    0.11   5.83  80.46  89.25  92.84  96.48 104.86   2582    1.0\n",
       "sigma0        12.24    0.17   4.08   3.87   9.36  12.23  15.37  19.49    590    1.0\n",
       "mu[0]         80.85    0.18   6.51   68.4  76.48  80.65  85.19  93.74   1379    1.0\n",
       "mu[1]        102.43    0.14   6.46  89.71  98.17 102.38 106.68 115.19   2018    1.0\n",
       "mu[2]         89.18    0.11    6.1  76.85  85.22  89.22  93.12 101.21   2835    1.0\n",
       "mu[3]        106.13     0.2   6.74  93.18 101.81  106.2 110.62 119.31   1119    1.0\n",
       "mu[4]         90.82    0.11   5.85  79.55  87.06  90.76  94.62 102.83   2741    1.0\n",
       "mu[5]         87.86    0.11   6.14  75.64  83.81  88.02  91.99   99.4   2999    1.0\n",
       "sigma         15.31    0.06   2.43  11.45  13.58  15.06  16.74  20.61   1932    1.0\n",
       "mu7           93.19    0.23  13.86  65.83  84.85   92.9 101.51 121.92   3530    1.0\n",
       "ypred7        93.55    0.34   20.9   53.3   79.4  93.36 107.65 135.16   3890    1.0\n",
       "ypred_all[0]  80.63    0.28  16.61  48.19  69.78  80.63  91.54 114.02   3525    1.0\n",
       "ypred_all[1] 102.68    0.29  16.47  69.87  91.84 102.62  113.6 134.77   3203    1.0\n",
       "ypred_all[2]  89.17    0.28  16.68  56.34  78.29  89.33  100.0 122.22   3464    1.0\n",
       "ypred_all[3] 105.96     0.3  17.11  71.59  95.07 106.04 117.38 138.89   3147    1.0\n",
       "ypred_all[4]  90.55    0.26  16.33  58.77  79.79  90.75 101.02 122.99   4000    1.0\n",
       "ypred_all[5]  87.49    0.28  16.89  54.04  76.39  87.81  98.49 120.76   3589    1.0\n",
       "lp__         -107.3    0.12   2.71 -113.4 -108.8 -106.9 -105.4 -103.1    503   1.01\n",
       "\n",
       "Samples were drawn using NUTS at Fri Nov 17 13:22:01 2017.\n",
       "For each parameter, n_eff is a crude measure of effective sample size,\n",
       "and Rhat is the potential scale reduction factor on split chains (at \n",
       "convergence, Rhat=1)."
      ]
     },
     "execution_count": 45,
     "metadata": {},
     "output_type": "execute_result"
    }
   ],
   "source": [
    "# fit_hierarchical = sm_hierarchical.sampling(data=data, seed=194838, chains=10, iter=4000);fit_hierarchical\n",
    "fit_hierarchical = sm_hierarchical.sampling(data=data, seed=194838);fit_hierarchical"
   ]
  },
  {
   "cell_type": "code",
   "execution_count": 47,
   "metadata": {
    "collapsed": true
   },
   "outputs": [],
   "source": [
    "# Extract samples in different forms for different parameters.\n",
    "# permuted : bool\n",
    "#    If True, returned samples are permuted. All chains are\n",
    "#    merged and warmup samples are discarded.\n",
    "samples_hierarchical = fit_hierarchical.extract(permuted=True)\n"
   ]
  },
  {
   "cell_type": "markdown",
   "metadata": {},
   "source": [
    "## For each of the six machines, compute and report the expected utility of the products of that machine."
   ]
  },
  {
   "cell_type": "code",
   "execution_count": 51,
   "metadata": {},
   "outputs": [
    {
     "name": "stdout",
     "output_type": "stream",
     "text": [
      "==Expected utility of the products of six machinee.==\n",
      "1th machine's Expected utility of the products: €-21.20\n",
      "2th machine's Expected utility of the products: €74.05\n",
      "3th machine's Expected utility of the products: €21.70\n",
      "4th machine's Expected utility of the products: €79.00\n",
      "5th machine's Expected utility of the products: €28.90\n",
      "6th machine's Expected utility of the products: €13.45\n"
     ]
    }
   ],
   "source": [
    "six_machines = samples_hierarchical[\"ypred_all\"]\n",
    "utilities_six_machines = (sum(six_machines >= 85) * 200 - len(six_machines)* 100)/len(six_machines)\n",
    "\n",
    "print(\"==Expected utility of the products of six machinee.==\")\n",
    "for i in range(len(utilities_six_machines)):\n",
    "    print(\"{}th machine's Expected utility of the products: €{:.2f}\".format(i+1, utilities_six_machines[i]))\n"
   ]
  },
  {
   "cell_type": "code",
   "execution_count": 52,
   "metadata": {},
   "outputs": [
    {
     "data": {
      "text/plain": [
       "array([[  4.  ,  79.  ],\n",
       "       [  2.  ,  74.05],\n",
       "       [  5.  ,  28.9 ],\n",
       "       [  3.  ,  21.7 ],\n",
       "       [  6.  ,  13.45],\n",
       "       [  1.  , -21.2 ]])"
      ]
     },
     "execution_count": 52,
     "metadata": {},
     "output_type": "execute_result"
    }
   ],
   "source": [
    "# np.fromiter(np.ndenumerate(utilities_six_machines), np.float)\n",
    "s = np.array(list(enumerate(utilities_six_machines)))#.sort(axis=1)\n",
    "s[:,0] += 1\n",
    "s = s[np.argsort(s[:, 1])[::-1]];s"
   ]
  },
  {
   "cell_type": "code",
   "execution_count": 53,
   "metadata": {
    "collapsed": true
   },
   "outputs": [],
   "source": [
    "table_values = np.insert(s, [0], [[i] for i in list(range(1,7))], axis=1)"
   ]
  },
  {
   "cell_type": "markdown",
   "metadata": {},
   "source": [
    "## Rank the machines based on the expected utilities and explain briefly what these values tell about the quality of these machines. E.g. Tell which machines are profitable and which are not (if any)."
   ]
  },
  {
   "cell_type": "code",
   "execution_count": 54,
   "metadata": {},
   "outputs": [
    {
     "data": {
      "image/png": "[encoded data removed]",
      "text/plain": [
       "<matplotlib.figure.Figure at 0x115ebec50>"
      ]
     },
     "metadata": {},
     "output_type": "display_data"
    }
   ],
   "source": [
    "collabel=(\"Rank\", \"Machine\", \"Expected utility of products(euros)\")\n",
    "the_table = plt.table(cellText=table_values,colLabels=collabel,loc='center')\n",
    "the_table.set_fontsize(24)\n",
    "the_table.scale(2, 2)\n",
    "# the_table.scale(2,4)\n",
    "plt.axis('off')\n",
    "plt.show()"
   ]
  },
  {
   "cell_type": "markdown",
   "metadata": {},
   "source": [
    "## Compute and report the expected utility of the products of a new (7th) machine."
   ]
  },
  {
   "cell_type": "code",
   "execution_count": 56,
   "metadata": {},
   "outputs": [
    {
     "name": "stdout",
     "output_type": "stream",
     "text": [
      "==Expected utility of the products of 7th machine.==\n",
      "7th machine's Expected utility of the products: €32.30\n"
     ]
    }
   ],
   "source": [
    "seventh_machine = samples_hierarchical[\"ypred7\"]\n",
    "utilities_seventh_machine = (sum(seventh_machine >= 85) * 200 - len(seventh_machine)* 100)/len(seventh_machine)\n",
    "\n",
    "print(\"==Expected utility of the products of 7th machine.==\")\n",
    "print(\"7th machine's Expected utility of the products: €{:.2f}\".format(utilities_seventh_machine))"
   ]
  },
  {
   "cell_type": "markdown",
   "metadata": {},
   "source": [
    "## Based on your analysis, discuss briefly whether the company owner should buy a new (7th) machine."
   ]
  },
  {
   "cell_type": "markdown",
   "metadata": {},
   "source": [
    "The expected utility of products is €32.30 which generates profit. Thus the owner should buy a new one. "
   ]
  }
 ],
 "metadata": {
  "kernelspec": {
   "display_name": "Python 3",
   "language": "python",
   "name": "python3"
  },
  "language_info": {
   "codemirror_mode": {
    "name": "ipython",
    "version": 3
   },
   "file_extension": ".py",
   "mimetype": "text/x-python",
   "name": "python",
   "nbconvert_exporter": "python",
   "pygments_lexer": "ipython3",
   "version": "3.6.1"
  }
 },
 "nbformat": 4,
 "nbformat_minor": 2
}
