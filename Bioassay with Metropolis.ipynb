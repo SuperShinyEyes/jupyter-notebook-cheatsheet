{
 "cells": [
  {
   "cell_type": "markdown",
   "metadata": {},
   "source": [
    "## 1. Generalized linear model: Bioassay with Metropolis\n",
    "\n",
    "### Bayesian Data Analysis, 3rd ed\n",
    "####  Chapter 3, demo 6\n",
    "\n",
    "Illustrate posterior inference for Bioassay data (BDA3 p. 74-)."
   ]
  },
  {
   "cell_type": "markdown",
   "metadata": {},
   "source": [
    "### Module Setup"
   ]
  },
  {
   "cell_type": "code",
   "execution_count": 1,
   "metadata": {
    "collapsed": true
   },
   "outputs": [],
   "source": [
    "import numpy as np\n",
    "\n",
    "%matplotlib inline\n",
    "import matplotlib.pyplot as plt\n",
    "\n",
    "import pandas as pd\n",
    "\n",
    "pd.set_option('display.width', 500)\n",
    "pd.set_option('display.max_columns', 100)\n",
    "import seaborn as sns\n",
    "\n",
    "from scipy.stats import distributions"
   ]
  },
  {
   "cell_type": "code",
   "execution_count": 2,
   "metadata": {
    "collapsed": true
   },
   "outputs": [],
   "source": [
    "\n",
    "# Copyright (C) 1999 Simo Sarkka\n",
    "# Copyright (C) 2003-2004,2013 Aki Vehtari\n",
    "# Copyright (C) 2015 Tuomas Sivula\n",
    "\n",
    "# This software is distributed under the GNU General Public Licence (version 3 \n",
    "# or later); please refer to the file LICENSE.txt, included with the software, \n",
    "# for details.\n",
    "\n",
    "from __future__ import division\n",
    "import numpy as np\n",
    "\n",
    "def psrf(X, return_extra=False):\n",
    "    \"\"\"Potential Scale Reduction Factor\n",
    "    \n",
    "    Potential Scale Reduction Factor (PSRF) for a collection of \n",
    "    MCMC-simulations. The idea of the PSRF is that if R is not close to 1 \n",
    "    (below 1.1 for example) one may conclude that the tested samples were not \n",
    "    from the same distribution (chain might not have been converged yet).\n",
    "    \n",
    "    Original method:\n",
    "       Brooks, S.P. and Gelman, A. (1998) General methods for monitoring \n",
    "       convergence of iterative simulations. Journal of Computational and \n",
    "       Graphical Statistics. 7, 434-455. \n",
    "    Current version:\n",
    "       Split chains, return square-root definiton of R, and compute n_eff using \n",
    "       variogram estimate and Geyer's initial positive sequence as described in \n",
    "       Gelman et al (2013), Bayesian Data Analsyis, 3rd ed, sections 11.4-11.5.\n",
    "    \n",
    "    Parameters\n",
    "    ----------\n",
    "    X : array_like\n",
    "        Input array of shape (M,N,D) consisting of M MCMC simulations of length \n",
    "        N, each with dimension D. Only one simulation can be provided as array \n",
    "        with shape (N,D). Preferably X should be C-contiguous with even number \n",
    "        of samples N.\n",
    "    \n",
    "    return_extra : bool, optional\n",
    "        If True, some extra information is also returned, see section returns.\n",
    "    \n",
    "    Returns\n",
    "    -------\n",
    "    R : ndarray\n",
    "        PSRF (R=sqrt(V/W)) in array of length D.\n",
    "    \n",
    "    neff : ndarray\n",
    "        Estimated effective number of samples M*N/(1+2*sum(rhohat)).\n",
    "    \n",
    "    V : ndarray\n",
    "        Estimated mixture-of-sequences variances.\n",
    "    \n",
    "    W : ndarray\n",
    "        Estimated within sequence variances.\n",
    "    \n",
    "    B : ndarray\n",
    "        Estimated between sequence variances.\n",
    "    \n",
    "    \"\"\"\n",
    "    \n",
    "    # Handle input\n",
    "    X = np.asarray(X)\n",
    "    if X.ndim == 2:\n",
    "        X = X[np.newaxis]\n",
    "    # Split chains\n",
    "    M = X.shape[0]*2\n",
    "    N = X.shape[1]//2\n",
    "    D = X.shape[2]\n",
    "    if X.shape[1]%2 == 0:\n",
    "        X = X.reshape((M,N,D))\n",
    "    else:\n",
    "        # Discard the middle samples (data copied)\n",
    "        X_in = X\n",
    "        X = np.empty((M,N,D), dtype=X_in.dtype)\n",
    "        np.copyto(X[:X_in.shape[0]], X_in[:,:N])\n",
    "        np.copyto(X[X_in.shape[0]:], X_in[:,-N:])\n",
    "    \n",
    "    if N <= 2:\n",
    "        raise ValueError(\"Too few samples\")\n",
    "    \n",
    "    # Means of the variances\n",
    "    W = np.mean(np.var(X, axis=1, ddof=1), axis=0)\n",
    "    # Variances of the means\n",
    "    B = np.var(np.mean(X, axis=1), axis=0, ddof=1)\n",
    "    \n",
    "    # Calculate reduction factors\n",
    "    Vh = W*(N-1)/N + B\n",
    "    B *= N\n",
    "    R = np.sqrt(Vh/W)\n",
    "    \n",
    "    if not return_extra:\n",
    "        return R\n",
    "    \n",
    "    else:\n",
    "        # Autocorrelation\n",
    "        temp_1 = np.empty_like(X)\n",
    "        rho = np.ones((N,D))\n",
    "        for t in xrange(1,N):\n",
    "            tempslice = temp_1[:,:-t]\n",
    "            np.subtract(X[:,:-t], X[:,t:], out=tempslice)\n",
    "            np.square(tempslice, out=tempslice)\n",
    "            np.sum(tempslice, axis=(0,1), out=rho[t])\n",
    "            rho[t] /= 2*M*(N-t)*Vh\n",
    "        np.subtract(1, rho[1:], out=rho[1:])\n",
    "        \n",
    "        # Effective sample size\n",
    "        mid = N//2\n",
    "        cp = np.sum(np.reshape(rho[:2*mid], (mid,2,D)), axis=1)\n",
    "        # The following could be Cythonised\n",
    "        ci = np.argmax(cp<0, axis=0)\n",
    "        no_init_pos = np.nonzero(np.all(cp>=0, axis=0))[0]\n",
    "        if len(no_init_pos) > 0:\n",
    "            print (\n",
    "                \"Initial positive could not be found for variable(s) {}, \"\n",
    "                \"maxlag value used.\".format(no_init_pos+1)\n",
    "            )\n",
    "            ci[no_init_pos] = mid\n",
    "        cp *= np.arange(mid)[:,np.newaxis] < ci\n",
    "        tau = -1 + 2*np.sum(cp, axis=0)\n",
    "        neff = M*N/tau\n",
    "        \n",
    "        return R, neff, Vh, W, B, tau\n"
   ]
  },
  {
   "cell_type": "markdown",
   "metadata": {},
   "source": [
    "### Data we are using here"
   ]
  },
  {
   "cell_type": "code",
   "execution_count": 3,
   "metadata": {
    "scrolled": true
   },
   "outputs": [
    {
     "ename": "SyntaxError",
     "evalue": "invalid syntax (<ipython-input-3-b721147efe04>, line 1)",
     "output_type": "error",
     "traceback": [
      "\u001b[0;36m  File \u001b[0;32m\"<ipython-input-3-b721147efe04>\"\u001b[0;36m, line \u001b[0;32m1\u001b[0m\n\u001b[0;31m    | Dose, x_i  | Number of   | Number of    |\u001b[0m\n\u001b[0m    ^\u001b[0m\n\u001b[0;31mSyntaxError\u001b[0m\u001b[0;31m:\u001b[0m invalid syntax\n"
     ]
    }
   ],
   "source": [
    "| Dose, x_i  | Number of   | Number of    | \n",
    "| log(g/ml)  | animals,n_i |  deaths, y_i |\n",
    "|:-----------|------------:|:------------:|\n",
    "| -0.86      |     5       |     0        |\n",
    "| -0.30      |     5       |     1        |\n",
    "| -0.05      |     5       |     3        |\n",
    "|  0.73      |     5       |     5        |"
   ]
  },
  {
   "cell_type": "code",
   "execution_count": 6,
   "metadata": {
    "collapsed": true
   },
   "outputs": [],
   "source": [
    "# Data from experiment\n",
    "n=5\n",
    "X=np.array([-0.86,-0.30,-0.05,0.73])\n",
    "Y=np.array([0,1,3,5])"
   ]
  },
  {
   "cell_type": "markdown",
   "metadata": {},
   "source": [
    "The likelihood since is a success/fail experiment is expressed as a Binomial:\n",
    "\n",
    "$$ P(D_i|\\theta_i) = p(y_i, n_i| \\theta_i) = {\\rm Bionomial}( y_i, n_i \\vert \\theta_i)  \\,\\,\\,\\,    \\rm{for}\\,\\, i=1, \\ldots, 4$$\n",
    "\n",
    "where $\\theta$ is the rate of deaths which is modeled as a $\\rm{logit}^{-1}$:  \n",
    "\n",
    "$$ \\theta_i = {\\rm logit}^{-1}(\\alpha+\\beta x_i) \\,\\,\\,\\, \\rm{for} \\,\\, i=1, \\ldots, 4$$\n",
    "\n",
    "We use flat priors for $\\alpha,\\beta$: \n",
    "\n",
    "$$ p(\\alpha, \\beta) \\propto 1 $$\n",
    "\n",
    "Posterior: \n",
    "\n",
    "$$ p(\\alpha, \\beta \\vert y) \\propto p(\\alpha, \\beta) \\prod_{i=1}^{k} p(y_i \\vert \\alpha, \\beta, n_i, x_i) $$\n",
    "$$ = 1 \\prod_{i=1}^{k} [{\\rm logit}^{-1}(\\alpha+\\beta x_i)]^{y_i} [ 1-{\\rm logit}^{-1}(\\alpha+\\beta x_i)]^{n_i-y_i} $$\n",
    "\n"
   ]
  },
  {
   "cell_type": "code",
   "execution_count": 7,
   "metadata": {
    "collapsed": true
   },
   "outputs": [],
   "source": [
    "def calc_posterior(a,b,x,y,n):\n",
    "    '''\n",
    "    unnormalized log posterior density for bioassay (assuming uniform prior)\n",
    "    '''\n",
    "\n",
    "    # these help using chain rule in derivation\n",
    "    t = a + b*x\n",
    "    et = np.exp(t)\n",
    "    z = et/(1.+et)      \n",
    "    #   print(\"t: {}\\net: {}\\n z: {}\".format(t, et, z))\n",
    "    # negative log posterior (error function to be minimized)\n",
    "    lp = np.sum(y*np.log(z)+ (n-y)*np.log(1.-z))\n",
    "    return(lp)"
   ]
  },
  {
   "cell_type": "code",
   "execution_count": 8,
   "metadata": {},
   "outputs": [
    {
     "data": {
      "text/plain": [
       "array([[ -90.87880795,  -87.55476605,  -84.25232935, ...,  -25.19390609,\n",
       "         -25.37457622,  -25.55526948],\n",
       "       [ -90.77305181,  -87.43241521,  -84.11316577, ...,  -24.79991961,\n",
       "         -24.98047051,  -25.1610469 ],\n",
       "       [ -90.68374197,  -87.32654571,  -83.99045601, ...,  -24.4065572 ,\n",
       "         -24.58697664,  -24.7674242 ],\n",
       "       ..., \n",
       "       [-135.67403975, -132.54572843, -129.52465643, ...,  -13.32269935,\n",
       "         -13.33286959,  -13.35031251],\n",
       "       [-136.46838339, -133.37603216, -130.39174345, ...,  -13.48507282,\n",
       "         -13.48867592,  -13.50012971],\n",
       "       [-137.27476871, -134.21883034, -131.27124845, ...,  -13.65350117,\n",
       "         -13.65003832,  -13.65503231]])"
      ]
     },
     "execution_count": 8,
     "metadata": {},
     "output_type": "execute_result"
    }
   ],
   "source": [
    "# check my posterior. I do a brute force just to make sure I do the right thing\n",
    "X1 = np.linspace(-3,7,101)\n",
    "X2 = np.linspace(-10, 30,100)\n",
    "k=0;j=0\n",
    "pp=np.zeros((101,100))\n",
    "for x1 in X1:\n",
    "    j=0\n",
    "    for x2 in X2:\n",
    "        pp[k,j]=calc_posterior(x1,x2, X, Y,n)\n",
    "        j +=1\n",
    "    k +=1\n",
    "    \n",
    "pp"
   ]
  },
  {
   "cell_type": "code",
   "execution_count": 9,
   "metadata": {},
   "outputs": [
    {
     "data": {
      "text/plain": [
       "1.7328515586437636e-07"
      ]
     },
     "execution_count": 9,
     "metadata": {},
     "output_type": "execute_result"
    }
   ],
   "source": [
    "trace = np.empty((5+1, 2))\n",
    "trace.shape\n",
    "trace[0] = (2,2)\n",
    "current_prob = np.exp(calc_posterior(*trace[0], X,Y,n))\n",
    "current_prob\n"
   ]
  },
  {
   "cell_type": "code",
   "execution_count": 15,
   "metadata": {},
   "outputs": [
    {
     "data": {
      "text/plain": [
       "0.41485715911762455"
      ]
     },
     "execution_count": 15,
     "metadata": {},
     "output_type": "execute_result"
    }
   ],
   "source": [
    "np.random.rand()"
   ]
  },
  {
   "cell_type": "code",
   "execution_count": 8,
   "metadata": {
    "collapsed": true
   },
   "outputs": [],
   "source": [
    "rnorm = np.random.normal\n",
    "runif = np.random.rand\n",
    "\n",
    "# importlib.reload(calc_posterior)\n",
    "\n",
    "def metropolis(n_iterations, initial_values, prop_var=1):\n",
    "    #np.random.seed(seed=1)\n",
    "    n_params = len(initial_values)\n",
    "            \n",
    "    # Initial proposal standard deviations\n",
    "    prop_sd = [prop_var]*n_params\n",
    "    \n",
    "    # Initialize trace for parameters\n",
    "    trace = np.empty((n_iterations+1, n_params))\n",
    "    \n",
    "    # Set initial values\n",
    "    trace[0] = initial_values\n",
    "        \n",
    "    # Calculate joint posterior for initial values\n",
    "    current_prob = calc_posterior(*trace[0],X,Y, n)\n",
    "    \n",
    "    # Initialize acceptance counts\n",
    "    accepted = [0]*n_params\n",
    "    \n",
    "    for i in range(n_iterations):\n",
    "    \n",
    "        if not i%10000: print('Iteration', i)\n",
    "    \n",
    "        # Grab current parameter values\n",
    "        current_params = trace[i]\n",
    "    \n",
    "        # Get current value for parameter j\n",
    "        p = trace[i].copy() \n",
    "        for j in range(n_params):\n",
    "            # This is the jumping distribution;\n",
    "            # N ~ (current_params[j], prop_sd[j])\n",
    "            # Usually its range is smaller than the posterior distribution\n",
    "            theta = rnorm(current_params[j], prop_sd[j])\n",
    "            \n",
    "            # Insert new value \n",
    "            p[j] = theta\n",
    "    \n",
    "            # Calculate log posterior with proposed value\n",
    "#             proposed_prob = calc_posterior(*p, X,Y, n)\n",
    "            proposed_prob = calc_posterior(*p, X,Y, n)\n",
    "            \n",
    "            # Log-acceptance rate\n",
    "            alpha = proposed_prob - current_prob\n",
    "#             print(\"alpha: {}\".format(alpha))\n",
    "            \n",
    "            # Sample a uniform random variate\n",
    "            # In this case, u is different in every loop. However, it may be\n",
    "            # constant over the entire loops.\n",
    "            u = runif()\n",
    "    \n",
    "            # Test proposed value\n",
    "            '''\n",
    "            If α ≥ 1, then the candidate is more likely than xt; automatically \n",
    "            accept the candidate by setting xt+1 = x'. Otherwise, accept the \n",
    "            candidate with probability α; if the candidate is rejected, set \n",
    "            xt+1 = xt, instead.\n",
    "            '''\n",
    "            if (u) < np.exp(alpha):\n",
    "                # Accept\n",
    "                trace[i+1,j] = theta\n",
    "                current_prob = proposed_prob\n",
    "                accepted[j] += 1\n",
    "\n",
    "            else:\n",
    "                # Stay put\n",
    "                trace[i+1,j] = trace[i,j]\n",
    "            \n",
    "            p[j] = trace[i+1,j]\n",
    "    return trace, accepted\n",
    "\n",
    "## also define a better autocorr function \n",
    "def autocorr(x):\n",
    "   result = np.correlate(x, x, mode='full')\n",
    "   result = result/result[result.size/2]\n",
    "   return result[result.size/2:]"
   ]
  },
  {
   "cell_type": "code",
   "execution_count": 9,
   "metadata": {},
   "outputs": [
    {
     "name": "stdout",
     "output_type": "stream",
     "text": [
      "Iteration 0\n",
      "Iteration 10000\n",
      "Iteration 20000\n",
      "Iteration 30000\n",
      "Iteration 40000\n",
      "Iteration 0\n",
      "Iteration 10000\n",
      "Iteration 20000\n",
      "Iteration 30000\n",
      "Iteration 40000\n",
      "Iteration 0\n"
     ]
    },
    {
     "name": "stderr",
     "output_type": "stream",
     "text": [
      "/Users/seyoung/anaconda/lib/python3.6/site-packages/ipykernel_launcher.py:12: RuntimeWarning: divide by zero encountered in log\n",
      "  if sys.path[0] == '':\n",
      "/Users/seyoung/anaconda/lib/python3.6/site-packages/ipykernel_launcher.py:12: RuntimeWarning: invalid value encountered in multiply\n",
      "  if sys.path[0] == '':\n"
     ]
    },
    {
     "name": "stdout",
     "output_type": "stream",
     "text": [
      "Iteration 10000\n",
      "Iteration 20000\n",
      "Iteration 30000\n",
      "Iteration 40000\n",
      "Iteration 0\n",
      "Iteration 10000\n",
      "Iteration 20000\n",
      "Iteration 30000\n",
      "Iteration 40000\n"
     ]
    }
   ],
   "source": [
    "n_iter = 50000\n",
    "initial_values = [\n",
    "    (3,20),\n",
    "    (1,30),\n",
    "    (-2,9),\n",
    "    (5,1)\n",
    "]\n",
    "trace = []; acc = []\n",
    "\n",
    "for i in initial_values:\n",
    "    t, a = metropolis(n_iter, i)\n",
    "    trace.append(t)\n",
    "    acc.append(a)"
   ]
  },
  {
   "cell_type": "markdown",
   "metadata": {},
   "source": [
    "For many models, convergence occurs quickly. It is not uncommon that convergence happens within a few hundred iterations (__burn-in__), after which all remaining samples of the chain may be used to calculate posterior quantities. For complex models, convergence requires a significantly longer __burn-in__ time. Frequently, lack of convergence will be caused by __poor mixing__. Mixing refers to the degree to which the __Markov chain explores the support of the posterior distribution__. Poor mixing may be due to inappropriate __proposals__ (too small step) or from attempting to estimate models with highly correlated variables."
   ]
  },
  {
   "cell_type": "code",
   "execution_count": 10,
   "metadata": {
    "collapsed": true
   },
   "outputs": [],
   "source": [
    "burnin = 5000    # MY BURN IN \n",
    "trace_without_warm_up = [t[burnin:] for t in trace]"
   ]
  },
  {
   "cell_type": "code",
   "execution_count": 33,
   "metadata": {},
   "outputs": [
    {
     "name": "stdout",
     "output_type": "stream",
     "text": [
      "Rhat for alpha:  1.001201\n",
      "Rhat for beta:   1.002562\n"
     ]
    }
   ],
   "source": [
    "Rs = psrf(trace_without_warm_up)\n",
    "print(\"Rhat for alpha:{:10.6f}\\nRhat for beta: {:10.6f}\".format(*Rs))"
   ]
  },
  {
   "cell_type": "code",
   "execution_count": 34,
   "metadata": {
    "collapsed": true
   },
   "outputs": [],
   "source": [
    "alpha = np.concatenate(trace_without_warm_up)[burnin:,0];\n",
    "beta = np.concatenate(trace_without_warm_up)[burnin:,1];"
   ]
  },
  {
   "cell_type": "code",
   "execution_count": 39,
   "metadata": {},
   "outputs": [
    {
     "data": {
      "text/plain": [
       "<matplotlib.collections.PathCollection at 0x1146b3048>"
      ]
     },
     "execution_count": 39,
     "metadata": {},
     "output_type": "execute_result"
    },
    {
     "data": {
      "image/png": "[encoded data removed]",
      "text/plain": [
       "<matplotlib.figure.Figure at 0x10db94a90>"
      ]
     },
     "metadata": {},
     "output_type": "display_data"
    }
   ],
   "source": [
    "plt.scatter(alpha, beta, s=0.2, alpha=0.2)"
   ]
  },
  {
   "cell_type": "markdown",
   "metadata": {},
   "source": [
    "The plot looks similar to the Figure 3.3b\n",
    "![f3.3](images/bioassasy_example.png)"
   ]
  },
  {
   "cell_type": "markdown",
   "metadata": {},
   "source": [
    "## 2. Bioassay with Stan"
   ]
  },
  {
   "cell_type": "code",
   "execution_count": null,
   "metadata": {
    "collapsed": true
   },
   "outputs": [],
   "source": [
    "# Data and model\n",
    "import pystan\n",
    "\n",
    "bioassay_code = \"\"\"\n",
    "data {\n",
    "    real x[4];\n",
    "    int<lower=0> n[4];\n",
    "    int<lower=0> y[4];\n",
    "}\n",
    " \n",
    "parameters {\n",
    "    real theta1;\n",
    "    real theta2;\n",
    "} \n",
    "model {\n",
    "    real alpha_betax[4];\n",
    "    for (i in 1:4) {\n",
    "        alpha_betax[i] = theta1 + theta2*x[i];\n",
    "    }\n",
    "    y ~ binomial_logit(n,alpha_betax);\n",
    "\"\"\"\n",
    "\n",
    "bioassay_dat = {'x': [-0.86, -0.30, -0.05, 0.73],\n",
    "                'n': [5] * 4,\n",
    "               'y': [0, 1, 3, 5]\n",
    "               }"
   ]
  },
  {
   "cell_type": "code",
   "execution_count": null,
   "metadata": {
    "collapsed": true
   },
   "outputs": [],
   "source": [
    "sm = pystan.StanModel(bioassay_code)\n",
    "fit = sm.sampling(data=bioassay_dat,iter=1000, chains=4, seed=194838); fit"
   ]
  },
  {
   "cell_type": "code",
   "execution_count": null,
   "metadata": {
    "collapsed": true
   },
   "outputs": [],
   "source": [
    "         mean se_mean     sd   2.5%    25%    50%    75%  97.5%  n_eff   Rhat\n",
    "theta1   1.28    0.05   1.05  -0.57   0.55   1.18   1.92   3.52    480    1.0\n",
    "theta2  11.38    0.24   5.66   3.44   7.17   10.3  14.61  24.86    536    1.0\n",
    "lp__    -6.93    0.04   0.99  -9.51  -7.39  -6.61  -6.19  -5.92    662   1.01"
   ]
  },
  {
   "cell_type": "markdown",
   "metadata": {},
   "source": [
    "$\\hat{R}$ for $\\alpha$ and $\\beta$ are both 1.0."
   ]
  },
  {
   "cell_type": "code",
   "execution_count": null,
   "metadata": {
    "collapsed": true
   },
   "outputs": [],
   "source": [
    "plt.scatter(samples['theta1'], samples['theta2'], s=0.2, alpha=0.8)"
   ]
  },
  {
   "cell_type": "markdown",
   "metadata": {},
   "source": [
    "![bioassay_metropolis_posterior.png](images/bioassay_metropolis_posterior.png)"
   ]
  },
  {
   "cell_type": "markdown",
   "metadata": {},
   "source": [
    "The plot looks similar to the Figure 3.3b\n",
    "![f3.3](images/bioassasy_example.png)"
   ]
  }
 ],
 "metadata": {
  "kernelspec": {
   "display_name": "Python 3",
   "language": "python",
   "name": "python3"
  },
  "language_info": {
   "codemirror_mode": {
    "name": "ipython",
    "version": 3
   },
   "file_extension": ".py",
   "mimetype": "text/x-python",
   "name": "python",
   "nbconvert_exporter": "python",
   "pygments_lexer": "ipython3",
   "version": "3.6.1"
  }
 },
 "nbformat": 4,
 "nbformat_minor": 2
}
