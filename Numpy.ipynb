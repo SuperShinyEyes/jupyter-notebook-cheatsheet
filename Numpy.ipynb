{
 "cells": [
  {
   "cell_type": "code",
   "execution_count": 1,
   "metadata": {
    "collapsed": true
   },
   "outputs": [],
   "source": [
    "import numpy as np\n",
    "import scipy.stats\n",
    "from matplotlib import pyplot as plt \n",
    "plt.rc('font', size=12)"
   ]
  },
  {
   "cell_type": "markdown",
   "metadata": {},
   "source": [
    "## Bayesian Assignment 4"
   ]
  },
  {
   "cell_type": "code",
   "execution_count": 6,
   "metadata": {},
   "outputs": [
    {
     "data": {
      "text/plain": [
       "(array([[-8.        , -7.83838384, -7.67676768, ...,  7.67676768,\n",
       "          7.83838384,  8.        ],\n",
       "        [-8.        , -7.83838384, -7.67676768, ...,  7.67676768,\n",
       "          7.83838384,  8.        ],\n",
       "        [-8.        , -7.83838384, -7.67676768, ...,  7.67676768,\n",
       "          7.83838384,  8.        ],\n",
       "        ..., \n",
       "        [-8.        , -7.83838384, -7.67676768, ...,  7.67676768,\n",
       "          7.83838384,  8.        ],\n",
       "        [-8.        , -7.83838384, -7.67676768, ...,  7.67676768,\n",
       "          7.83838384,  8.        ],\n",
       "        [-8.        , -7.83838384, -7.67676768, ...,  7.67676768,\n",
       "          7.83838384,  8.        ]]),\n",
       " array([[-20.        , -20.        , -20.        , ..., -20.        ,\n",
       "         -20.        , -20.        ],\n",
       "        [-19.39393939, -19.39393939, -19.39393939, ..., -19.39393939,\n",
       "         -19.39393939, -19.39393939],\n",
       "        [-18.78787879, -18.78787879, -18.78787879, ..., -18.78787879,\n",
       "         -18.78787879, -18.78787879],\n",
       "        ..., \n",
       "        [ 38.78787879,  38.78787879,  38.78787879, ...,  38.78787879,\n",
       "          38.78787879,  38.78787879],\n",
       "        [ 39.39393939,  39.39393939,  39.39393939, ...,  39.39393939,\n",
       "          39.39393939,  39.39393939],\n",
       "        [ 40.        ,  40.        ,  40.        , ...,  40.        ,\n",
       "          40.        ,  40.        ]]))"
      ]
     },
     "execution_count": 6,
     "metadata": {},
     "output_type": "execute_result"
    }
   ],
   "source": [
    "# Generate prior\n",
    "priamean = 0.0\n",
    "priastd = 2\n",
    "pribmean = 10\n",
    "pribstd = 10\n",
    "corrab = 0.5\n",
    "primean = np.array([priamean, pribmean])\n",
    "pricov = np.array([[pow(priastd, 2), corrab*priastd*pribstd], [corrab*priastd*pribstd, pow(pribstd, 2)]])\n",
    "\n",
    "prior = scipy.stats.multivariate_normal(mean=primean, cov=pricov)\n",
    "\n",
    "# Meshgrid\n",
    "# Sample a grid of points for alpha and beta\n",
    "AA = np.linspace(-8, 8, 100)\n",
    "BB = np.linspace(-20, 40, 100)\n",
    "# https://stackoverflow.com/questions/36013063/what-is-purpose-of-meshgrid-in-python/36014504#36014504\n",
    "A, B = np.meshgrid(AA, BB); A, B"
   ]
  },
  {
   "cell_type": "code",
   "execution_count": 7,
   "metadata": {
    "collapsed": true
   },
   "outputs": [],
   "source": [
    "# Flatten(ravel) 2-D array into 1-D\n",
    "# compute prior in the grid points\n",
    "# https://stackoverflow.com/a/28930580/3067013\n",
    "z = np.array([prior.pdf([x, y]) for [x,y] in zip(np.ravel(A), np.ravel(B)) ])"
   ]
  },
  {
   "cell_type": "markdown",
   "metadata": {},
   "source": [
    "### Undo flattening"
   ]
  },
  {
   "cell_type": "code",
   "execution_count": 9,
   "metadata": {},
   "outputs": [
    {
     "data": {
      "text/plain": [
       "((100, 100), (10000,), (100, 100))"
      ]
     },
     "execution_count": 9,
     "metadata": {},
     "output_type": "execute_result"
    }
   ],
   "source": [
    "Z = z.reshape(A.shape); z.shape, A.shape, Z.shape"
   ]
  },
  {
   "cell_type": "code",
   "execution_count": 3,
   "metadata": {
    "collapsed": true
   },
   "outputs": [],
   "source": [
    "np.ravel"
   ]
  },
  {
   "cell_type": "code",
   "execution_count": null,
   "metadata": {
    "collapsed": true
   },
   "outputs": [],
   "source": []
  },
  {
   "cell_type": "code",
   "execution_count": null,
   "metadata": {
    "collapsed": true
   },
   "outputs": [],
   "source": []
  },
  {
   "cell_type": "code",
   "execution_count": null,
   "metadata": {
    "collapsed": true
   },
   "outputs": [],
   "source": []
  },
  {
   "cell_type": "code",
   "execution_count": null,
   "metadata": {
    "collapsed": true
   },
   "outputs": [],
   "source": []
  },
  {
   "cell_type": "code",
   "execution_count": null,
   "metadata": {
    "collapsed": true
   },
   "outputs": [],
   "source": []
  }
 ],
 "metadata": {
  "kernelspec": {
   "display_name": "Python 3",
   "language": "python",
   "name": "python3"
  },
  "language_info": {
   "codemirror_mode": {
    "name": "ipython",
    "version": 3
   },
   "file_extension": ".py",
   "mimetype": "text/x-python",
   "name": "python",
   "nbconvert_exporter": "python",
   "pygments_lexer": "ipython3",
   "version": "3.6.1"
  }
 },
 "nbformat": 4,
 "nbformat_minor": 2
}
