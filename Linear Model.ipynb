{
 "cells": [
  {
   "cell_type": "code",
   "execution_count": 85,
   "metadata": {},
   "outputs": [],
   "source": [
    "import numpy as np\n",
    "\n",
    "%matplotlib inline\n",
    "import matplotlib.pyplot as plt\n",
    "\n",
    "import pandas as pd\n",
    "\n",
    "pd.set_option('display.width', 500)\n",
    "pd.set_option('display.max_columns', 100)\n",
    "import seaborn as sns\n",
    "\n",
    "from scipy.stats import distributions\n",
    "\n",
    "import pickle"
   ]
  },
  {
   "cell_type": "code",
   "execution_count": 88,
   "metadata": {},
   "outputs": [],
   "source": [
    "# add utilities directory to path\n",
    "import os, sys\n",
    "util_path = os.path.abspath('utilities_and_data')\n",
    "if util_path not in sys.path and os.path.exists(util_path):\n",
    "    sys.path.insert(0, util_path)\n",
    "\n",
    "# import from utilities\n",
    "import stan_utility"
   ]
  },
  {
   "cell_type": "code",
   "execution_count": 2,
   "metadata": {
    "collapsed": true
   },
   "outputs": [],
   "source": [
    "import pystan"
   ]
  },
  {
   "cell_type": "code",
   "execution_count": 3,
   "metadata": {
    "collapsed": true
   },
   "outputs": [],
   "source": [
    "with open(\"data/drowning.txt\") as f:\n",
    "    lines = f.read().splitlines()\n",
    "    lines = [l.split() for l in lines]"
   ]
  },
  {
   "cell_type": "code",
   "execution_count": 52,
   "metadata": {
    "collapsed": true
   },
   "outputs": [],
   "source": [
    "years = np.array([int(l[0]) for l in lines])\n",
    "victims = np.array([int(l[1]) for l in lines])\n",
    "N = len(years)\n",
    "xpred = 2016    # Predict for 2016"
   ]
  },
  {
   "cell_type": "code",
   "execution_count": 36,
   "metadata": {},
   "outputs": [
    {
     "data": {
      "text/plain": [
       "array([1980, 1981, 1982, 1983, 1984, 1985, 1986, 1987, 1988, 1989, 1990,\n",
       "       1991, 1992, 1993, 1994, 1995, 1996, 1997, 1998, 1999, 2000, 2001,\n",
       "       2002, 2003, 2004, 2005, 2006, 2007, 2008, 2009, 2010, 2011, 2012,\n",
       "       2013])"
      ]
     },
     "execution_count": 36,
     "metadata": {},
     "output_type": "execute_result"
    }
   ],
   "source": [
    "years"
   ]
  },
  {
   "cell_type": "code",
   "execution_count": 5,
   "metadata": {},
   "outputs": [
    {
     "data": {
      "text/plain": [
       "<seaborn.axisgrid.PairGrid at 0x11a05f5f8>"
      ]
     },
     "execution_count": 5,
     "metadata": {},
     "output_type": "execute_result"
    },
    {
     "data": {
      "image/png": "[encoded data removed]",
      "text/plain": [
       "<matplotlib.figure.Figure at 0x11a05f198>"
      ]
     },
     "metadata": {},
     "output_type": "display_data"
    }
   ],
   "source": [
    "data =pd.DataFrame.from_items([('years',years), ('victims', victims)])\n",
    "sns.pairplot(data, x_vars=['years'], y_vars='victims', size=7, kind='reg')"
   ]
  },
  {
   "cell_type": "code",
   "execution_count": 6,
   "metadata": {
    "collapsed": true
   },
   "outputs": [],
   "source": [
    "# Gaussian linear model with adjustable priors\n",
    "drowning_code = \"\"\"\n",
    "data {\n",
    "  int<lower=0> N; // number of data points\n",
    "  vector[N] x; //\n",
    "  vector[N] y; //\n",
    "  real xpred; // input location for prediction\n",
    " }\n",
    "parameters {\n",
    "  real alpha;\n",
    "  real beta;\n",
    "  real<lower=0> sigma;\n",
    "}\n",
    "transformed parameters {\n",
    "  vector[N] mu;\n",
    "  mu = alpha + beta*x;\n",
    "}\n",
    "model {\n",
    "  y ~ normal(mu, sigma);\n",
    "}\n",
    "generated quantities {\n",
    "  real ypred;\n",
    "  vector[N] log_lik;\n",
    "  ypred = normal_rng(alpha + beta*xpred, sigma);\n",
    "  for (i in 1:N)\n",
    "    log_lik[i] = normal_lpdf(y[i] | mu[i], sigma);\n",
    "}\n",
    "\"\"\""
   ]
  },
  {
   "cell_type": "code",
   "execution_count": 7,
   "metadata": {
    "collapsed": true
   },
   "outputs": [],
   "source": [
    "data = dict(\n",
    "    N = N,\n",
    "    x = years,\n",
    "    y = victims,\n",
    "    xpred = xpred,\n",
    "                             # degree per 10 years\n",
    ")"
   ]
  },
  {
   "cell_type": "code",
   "execution_count": 9,
   "metadata": {},
   "outputs": [
    {
     "name": "stderr",
     "output_type": "stream",
     "text": [
      "INFO:pystan:COMPILING THE C++ CODE FOR MODEL anon_model_3f0e86229606a6afeeb9deac4462804e NOW.\n"
     ]
    }
   ],
   "source": [
    "sm = pystan.StanModel(model_code=drowning_code)"
   ]
  },
  {
   "cell_type": "code",
   "execution_count": 10,
   "metadata": {
    "collapsed": true
   },
   "outputs": [],
   "source": [
    "import pickle\n",
    "with open('drowning_model.pkl', 'wb') as f:\n",
    "    pickle.dump(sm, f)\n"
   ]
  },
  {
   "cell_type": "markdown",
   "metadata": {},
   "source": [
    "## Question 1.1\n",
    "What can you say about the trend in the number of people drown per year? Plot the histogram of the slope of the linear model."
   ]
  },
  {
   "cell_type": "code",
   "execution_count": 8,
   "metadata": {
    "collapsed": true
   },
   "outputs": [],
   "source": [
    "import pickle\n",
    "sm = pickle.load(open('drowning_model.pkl', 'rb'))\n",
    "\n",
    "fit = sm.sampling(data=data, iter=1000, chains=4)"
   ]
  },
  {
   "cell_type": "markdown",
   "metadata": {},
   "source": [
    "If you look at the inference for Stan model you can see that the number of people drown per year is decreasing in general."
   ]
  },
  {
   "cell_type": "code",
   "execution_count": 25,
   "metadata": {},
   "outputs": [
    {
     "data": {
      "text/plain": [
       "164.42000000000007"
      ]
     },
     "execution_count": 25,
     "metadata": {},
     "output_type": "execute_result"
    }
   ],
   "source": [
    "6776.9 - 3.28 * 2016"
   ]
  },
  {
   "cell_type": "code",
   "execution_count": 13,
   "metadata": {},
   "outputs": [
    {
     "data": {
      "text/plain": [
       "Inference for Stan model: anon_model_3f0e86229606a6afeeb9deac4462804e.\n",
       "4 chains, each with iter=1000; warmup=500; thin=1; \n",
       "post-warmup draws per chain=500, total post-warmup draws=2000.\n",
       "\n",
       "              mean se_mean     sd   2.5%    25%    50%    75%  97.5%  n_eff   Rhat\n",
       "alpha       6776.9   40.79 997.57 4829.4 6087.0 6789.2 7427.3 8760.2    598   1.01\n",
       "beta         -3.28    0.02    0.5  -4.28  -3.61  -3.29  -2.94  -2.31    598   1.01\n",
       "sigma        29.82    0.15   3.91  23.11   27.1  29.45  32.32   38.0    707    1.0\n",
       "mu[0]       275.15    0.35   9.59  256.2 268.77  274.9 281.57 293.84    745   1.01\n",
       "mu[1]       271.87    0.33   9.17 253.93 265.69 271.61 278.01 289.85    763   1.01\n",
       "mu[2]       268.58    0.31   8.76 251.53 262.65  268.3 274.52 285.88    784   1.01\n",
       "mu[3]        265.3    0.29   8.35 248.95 259.67 264.99 270.87 281.89    808   1.01\n",
       "mu[4]       262.02    0.27   7.96 246.41 256.61 261.85  267.3 277.89    838   1.01\n",
       "mu[5]       258.73    0.26   7.57 243.88 253.54  258.6 263.73 273.82    873   1.01\n",
       "mu[6]       255.45    0.24   7.21 241.49 250.47 255.45 260.31 269.97    916   1.01\n",
       "mu[7]       252.16    0.22   6.85 238.92 247.54 252.26 256.73 266.02    970   1.01\n",
       "mu[8]       248.88     0.2   6.52  236.3 244.49 248.94 253.21 262.17   1037   1.01\n",
       "mu[9]        245.6    0.19   6.21 233.63 241.37 245.58 249.79 258.21   1116   1.01\n",
       "mu[10]      242.31    0.17   5.93 231.03 238.26 242.29 246.17 254.44   1212    1.0\n",
       "mu[11]      239.03    0.16   5.68 228.05 235.12 239.05 242.74 250.53   1330    1.0\n",
       "mu[12]      235.75    0.14   5.46 225.32  232.0  235.7 239.35 246.83   1470    1.0\n",
       "mu[13]      232.46    0.13   5.28 222.32 228.86 232.47 235.85 243.17   1628    1.0\n",
       "mu[14]      229.18    0.12   5.14 219.19  225.7 229.16 232.44  239.6   1790    1.0\n",
       "mu[15]      225.89    0.11   5.05 215.88 222.56  225.9 229.17 236.33   2000    1.0\n",
       "mu[16]      222.61    0.11    5.0 212.75 219.25 222.58 225.78 232.89   2000    1.0\n",
       "mu[17]      219.33    0.11   5.01 209.41 215.94  219.3 222.49 229.67   2000    1.0\n",
       "mu[18]      216.04    0.11   5.06 205.87 212.64 216.04 219.26 226.36   2000    1.0\n",
       "mu[19]      212.76    0.12   5.17 202.43 209.42 212.66 216.11 222.93   2000    1.0\n",
       "mu[20]      209.48    0.13   5.31 198.82 205.94  209.4 212.95 220.02   1605    1.0\n",
       "mu[21]      206.19    0.14    5.5 195.23 202.53 206.07 209.87 217.05   1449    1.0\n",
       "mu[22]      202.91    0.16   5.73 191.45 199.13  202.8 206.71 214.04   1313    1.0\n",
       "mu[23]      199.62    0.17   5.99 187.67 195.63 199.59  203.6 211.31   1199    1.0\n",
       "mu[24]      196.34    0.19   6.28 183.93 192.06 196.31 200.56 208.56   1106    1.0\n",
       "mu[25]      193.06    0.21    6.6 180.06 188.54 192.98 197.55  205.9   1031    1.0\n",
       "mu[26]      189.77    0.22   6.93 175.88 184.96 189.72 194.47 203.07    970    1.0\n",
       "mu[27]      186.49    0.24   7.29 172.06 181.51 186.46 191.44 200.42    921    1.0\n",
       "mu[28]      183.21    0.26   7.66 168.25 178.06 183.19 188.43 197.81    880    1.0\n",
       "mu[29]      179.92    0.28   8.04 164.39 174.46 179.96 185.46 195.29    847    1.0\n",
       "mu[30]      176.64    0.29   8.44 160.27 170.86 176.72 182.57 192.76    819    1.0\n",
       "mu[31]      173.35    0.31   8.85 156.25 167.25 173.39 179.63 190.33    796    1.0\n",
       "mu[32]      170.07    0.33   9.27 152.23 163.67 170.05 176.66 187.79    771    1.0\n",
       "mu[33]      166.79    0.35   9.69  148.2 160.14 166.75 173.61 185.37    753    1.0\n",
       "ypred       156.95    0.75  31.96  93.22 136.07  157.0 177.78 219.17   1825    1.0\n",
       "log_lik[0]   -4.36  5.5e-3   0.15  -4.66  -4.45  -4.36  -4.26  -4.09    712    1.0\n",
       "log_lik[1]   -5.25    0.02   0.44  -6.24  -5.51  -5.19  -4.93  -4.58    822   1.01\n",
       "log_lik[2]   -4.35  5.3e-3   0.14  -4.64  -4.45  -4.35  -4.25  -4.08    726    1.0\n",
       "log_lik[3]   -4.38  5.3e-3   0.15  -4.69  -4.47  -4.38  -4.27  -4.11    773    1.0\n",
       "log_lik[4]   -4.51  6.2e-3   0.18  -4.94  -4.62   -4.5  -4.38  -4.21    883    1.0\n",
       "log_lik[5]   -5.42    0.01   0.42  -6.38  -5.66  -5.37  -5.12  -4.77    888   1.01\n",
       "log_lik[6]   -4.43  5.5e-3   0.15  -4.75  -4.53  -4.42  -4.32  -4.16    785   1.01\n",
       "log_lik[7]    -4.8  7.1e-3   0.23  -5.33  -4.94  -4.78  -4.64  -4.43   1043   1.01\n",
       "log_lik[8]   -6.61    0.02   0.65  -8.08  -7.02  -6.54  -6.12  -5.54    915   1.01\n",
       "log_lik[9]   -6.41    0.02   0.59  -7.74  -6.79  -6.34  -5.98  -5.44    942   1.01\n",
       "log_lik[10]   -4.4  4.7e-3   0.14  -4.69  -4.49   -4.4   -4.3  -4.15    863    1.0\n",
       "log_lik[11]  -5.18  7.5e-3   0.27  -5.77  -5.34  -5.14  -4.99  -4.73   1262    1.0\n",
       "log_lik[12]  -4.86  5.0e-3   0.19  -5.28  -4.98  -4.85  -4.73  -4.52   1458    1.0\n",
       "log_lik[13]  -4.43  4.4e-3   0.13  -4.71  -4.52  -4.42  -4.34  -4.18    935    1.0\n",
       "log_lik[14]  -4.32  4.8e-3   0.13  -4.57  -4.41  -4.32  -4.23  -4.07    735    1.0\n",
       "log_lik[15]  -4.88  4.2e-3   0.19  -5.32  -4.99  -4.87  -4.76  -4.57   2000    1.0\n",
       "log_lik[16]  -5.89    0.01   0.41  -6.82  -6.12  -5.84   -5.6  -5.24   1136    1.0\n",
       "log_lik[17]  -4.99  4.8e-3    0.2  -5.45  -5.11  -4.97  -4.85  -4.64   1750    1.0\n",
       "log_lik[18]  -4.56  3.9e-3   0.14  -4.85  -4.64  -4.55  -4.46   -4.3   1266    1.0\n",
       "log_lik[19]  -5.19  6.7e-3   0.25  -5.76  -5.33  -5.16  -5.01  -4.77   1389    1.0\n",
       "log_lik[20]  -4.32  4.8e-3   0.13  -4.58  -4.41  -4.32  -4.23  -4.07    743    1.0\n",
       "log_lik[21]  -4.32  4.8e-3   0.13  -4.58  -4.41  -4.32  -4.23  -4.07    750    1.0\n",
       "log_lik[22]   -4.7  4.6e-3   0.17  -5.08   -4.8  -4.69  -4.58   -4.4   1362    1.0\n",
       "log_lik[23]  -4.45  4.4e-3   0.14  -4.74  -4.54  -4.44  -4.35  -4.18   1017    1.0\n",
       "log_lik[24]  -4.33  4.9e-3   0.13  -4.59  -4.42  -4.32  -4.23  -4.07    746    1.0\n",
       "log_lik[25]  -4.36  4.7e-3   0.14  -4.65  -4.45  -4.36  -4.26   -4.1    826    1.0\n",
       "log_lik[26]  -4.45  4.9e-3   0.15  -4.79  -4.55  -4.44  -4.35  -4.18    953    1.0\n",
       "log_lik[27]  -4.38  4.9e-3   0.14  -4.68  -4.47  -4.38  -4.28  -4.11    845    1.0\n",
       "log_lik[28]  -4.47  5.9e-3   0.17  -4.84  -4.58  -4.46  -4.35  -4.18    824    1.0\n",
       "log_lik[29]  -4.41  5.7e-3   0.16  -4.75  -4.52   -4.4  -4.29  -4.13    775    1.0\n",
       "log_lik[30]  -4.47  6.1e-3   0.18  -4.86  -4.58  -4.45  -4.35  -4.17    848    1.0\n",
       "log_lik[31]  -4.41  6.0e-3   0.17  -4.76  -4.52   -4.4  -4.29  -4.12    763    1.0\n",
       "log_lik[32]  -6.01    0.02   0.62  -7.38   -6.4  -5.94  -5.55  -5.01    879   1.01\n",
       "log_lik[33]  -4.36  5.4e-3   0.15  -4.66  -4.46  -4.36  -4.25  -4.09    761    1.0\n",
       "lp__        -128.0    0.04   1.14 -130.9 -128.6 -127.7 -127.1 -126.6    723    1.0\n",
       "\n",
       "Samples were drawn using NUTS at Tue Oct 31 13:00:25 2017.\n",
       "For each parameter, n_eff is a crude measure of effective sample size,\n",
       "and Rhat is the potential scale reduction factor on split chains (at \n",
       "convergence, Rhat=1)."
      ]
     },
     "execution_count": 13,
     "metadata": {},
     "output_type": "execute_result"
    }
   ],
   "source": [
    "fit"
   ]
  },
  {
   "cell_type": "code",
   "execution_count": 21,
   "metadata": {},
   "outputs": [
    {
     "data": {
      "text/plain": [
       "OrderedDict([('alpha',\n",
       "              array([ 7329.59735806,  8861.98300373,  7303.31289173, ...,  5031.17648885,\n",
       "                      6447.29283821,  6570.23654026])),\n",
       "             ('beta',\n",
       "              array([-3.55669658, -4.32689853, -3.54618325, ..., -2.41282808,\n",
       "                     -3.11732114, -3.18298538])),\n",
       "             ('sigma',\n",
       "              array([ 31.91986261,  32.9477017 ,  26.98377828, ...,  26.90886421,\n",
       "                      24.22376169,  37.52624128])),\n",
       "             ('mu',\n",
       "              array([[ 287.33813601,  283.78143943,  280.22474286, ...,  177.08054213,\n",
       "                       173.52384555,  169.96714897],\n",
       "                     [ 294.72391578,  290.39701725,  286.07011872, ...,  160.59006137,\n",
       "                       156.26316284,  151.93626431],\n",
       "                     [ 281.87005134,  278.32386808,  274.77768483, ...,  171.9383705 ,\n",
       "                       168.39218725,  164.846004  ],\n",
       "                     ..., \n",
       "                     [ 253.77688622,  251.36405814,  248.95123006, ...,  178.97921567,\n",
       "                       176.56638759,  174.15355951],\n",
       "                     [ 274.99699068,  271.87966954,  268.76234841, ...,  178.36003549,\n",
       "                       175.24271436,  172.12539322],\n",
       "                     [ 267.92548832,  264.74250295,  261.55951757, ...,  169.25294155,\n",
       "                       166.06995617,  162.88697079]])),\n",
       "             ('ypred',\n",
       "              array([ 140.02797152,  194.03272409,  132.15745023, ...,  174.47577663,\n",
       "                      168.80168821,  130.91219776])),\n",
       "             ('log_lik',\n",
       "              array([[-4.46947183, -5.64765489, -4.48146416, ..., -4.47946115,\n",
       "                      -5.9500418 , -4.38406599],\n",
       "                     [-4.61167694, -5.93125418, -4.59939239, ..., -4.41653509,\n",
       "                      -5.1239123 , -4.53271378],\n",
       "                     [-4.25670679, -5.62482164, -4.26708279, ..., -4.26903762,\n",
       "                      -6.02784616, -4.22100545],\n",
       "                     ..., \n",
       "                     [-4.4938012 , -4.44426592, -4.41210261, ..., -4.38770967,\n",
       "                      -6.66148293, -4.2375419 ],\n",
       "                     [-4.10711954, -5.39432032, -4.11277452, ..., -4.30730739,\n",
       "                      -6.99675309, -4.12077423],\n",
       "                     [-4.55708054, -4.9017311 , -4.55097999, ..., -4.55786152,\n",
       "                      -5.39891028, -4.55326131]])),\n",
       "             ('lp__',\n",
       "              array([-128.11032711, -129.00329855, -126.84389072, ..., -129.46583146,\n",
       "                     -127.561437  , -129.23526425]))])"
      ]
     },
     "execution_count": 21,
     "metadata": {},
     "output_type": "execute_result"
    }
   ],
   "source": [
    "samples = fit.extract(permuted=True)\n",
    "samples"
   ]
  },
  {
   "cell_type": "markdown",
   "metadata": {},
   "source": [
    "### Histogram of the slope of the linear model"
   ]
  },
  {
   "cell_type": "code",
   "execution_count": 23,
   "metadata": {},
   "outputs": [
    {
     "data": {
      "text/plain": [
       "<matplotlib.text.Text at 0x11e9909e8>"
      ]
     },
     "execution_count": 23,
     "metadata": {},
     "output_type": "execute_result"
    },
    {
     "data": {
      "image/png": "[encoded data removed]",
      "text/plain": [
       "<matplotlib.figure.Figure at 0x11ea2eb70>"
      ]
     },
     "metadata": {},
     "output_type": "display_data"
    }
   ],
   "source": [
    "# Show Betas without warmups\n",
    "plt.hist(samples['beta'][:500], 50)\n",
    "plt.xlabel(\"Beta\")"
   ]
  },
  {
   "cell_type": "code",
   "execution_count": 53,
   "metadata": {
    "collapsed": true
   },
   "outputs": [],
   "source": [
    "alpha, beta, sigma, ypred = samples['alpha'], samples['beta'], samples['sigma'], samples['ypred']"
   ]
  },
  {
   "cell_type": "code",
   "execution_count": 50,
   "metadata": {},
   "outputs": [],
   "source": [
    "estimates = alpha + 1980 * beta"
   ]
  },
  {
   "cell_type": "code",
   "execution_count": 51,
   "metadata": {},
   "outputs": [
    {
     "data": {
      "text/plain": [
       "275.62223962738994"
      ]
     },
     "execution_count": 51,
     "metadata": {},
     "output_type": "execute_result"
    }
   ],
   "source": [
    "estimates.mean()"
   ]
  },
  {
   "cell_type": "markdown",
   "metadata": {},
   "source": [
    "### What does the model predict for year 2016? Plot the histogram of the posterior predictive distribution for number of people drown at x = 2016.\n",
    "\n",
    "For year 2016 the model predicts 156.95 people would die in average with standard error mean of 0.75.\n"
   ]
  },
  {
   "cell_type": "code",
   "execution_count": 54,
   "metadata": {},
   "outputs": [
    {
     "data": {
      "text/plain": [
       "<matplotlib.text.Text at 0x11f22ba20>"
      ]
     },
     "execution_count": 54,
     "metadata": {},
     "output_type": "execute_result"
    },
    {
     "data": {
      "image/png": "[encoded data removed]",
      "text/plain": [
       "<matplotlib.figure.Figure at 0x11f23db00>"
      ]
     },
     "metadata": {},
     "output_type": "display_data"
    }
   ],
   "source": [
    "plt.hist(ypred[:500], 50)\n",
    "plt.xlabel(\"Drowned\")"
   ]
  },
  {
   "cell_type": "markdown",
   "metadata": {},
   "source": [
    "## 2. Hierarchical model: factory data with Stan (3p)\n",
    "\n",
    "The provided factory.txt file contains quality control measurements from 6 machines in a factory (units of the measurements are irrelevant here). Quality control measurements are expensive and time-consuming, so only 5 measurements were done for each machine. In addition to the existing machines, we are interested in the quality of another machine (the seventh machine). \n",
    "\n",
    "Implement a \n",
    "- separate, \n",
    "- pooled and \n",
    "- hierarchical Gaussian model \n",
    "    \n",
    "described in Section 11.6 using Stan. \n",
    "\n",
    "Similarly as in the model description in the book, __use the same measurement standard deviation σ for all the groups in the hierarchical model__. In the separate model however, __use separate measurement standard deviation $\\sigma_j$ for each group j__. \n",
    "\n",
    "Using each of the three models – separate, pooled, and hierarchical – report (__plot histogram and comment on the results__):"
   ]
  },
  {
   "cell_type": "code",
   "execution_count": 63,
   "metadata": {},
   "outputs": [
    {
     "data": {
      "text/plain": [
       "array([[  83.,  117.,  101.,  105.,   79.,   57.],\n",
       "       [  92.,  109.,   93.,  119.,   97.,   92.],\n",
       "       [  92.,  114.,   92.,  116.,  103.,  104.],\n",
       "       [  46.,  104.,   86.,  102.,   79.,   77.],\n",
       "       [  67.,   87.,   67.,  116.,   92.,  100.]])"
      ]
     },
     "execution_count": 63,
     "metadata": {},
     "output_type": "execute_result"
    }
   ],
   "source": [
    "d = np.loadtxt(\"data/factory.txt\");d"
   ]
  },
  {
   "cell_type": "code",
   "execution_count": 78,
   "metadata": {},
   "outputs": [
    {
     "data": {
      "text/plain": [
       "array([1, 2, 3, 4, 5, 6, 1, 2, 3, 4, 5, 6, 1, 2, 3, 4, 5, 6, 1, 2, 3, 4, 5,\n",
       "       6, 1, 2, 3, 4, 5, 6])"
      ]
     },
     "execution_count": 78,
     "metadata": {},
     "output_type": "execute_result"
    }
   ],
   "source": [
    "x = np.tile(np.arange(1, 7), d.shape[0])\n",
    "y = d.ravel();y\n",
    "N = len(x)\n",
    "data = dict(\n",
    "    N = N,\n",
    "    K = 6,  # 6 machines\n",
    "    x = x,  # group indicators\n",
    "    y = y   # observations\n",
    ")"
   ]
  },
  {
   "cell_type": "code",
   "execution_count": 79,
   "metadata": {},
   "outputs": [],
   "source": [
    "#  Comparison of k groups with common variance (ANOVA)\n",
    "data_code = '''\n",
    "data {\n",
    "  int<lower=0> N; // number of data points\n",
    "  int<lower=0> K; // number of groups\n",
    "  int<lower=1,upper=K> x[N]; // group indicator\n",
    "  vector[N] y; //\n",
    "}\n",
    "parameters {\n",
    "  vector[K] mu;        // group means\n",
    "  real<lower=0> sigma; // common std\n",
    "}\n",
    "model {\n",
    "  y ~ normal(mu[x], sigma);\n",
    "}\n",
    "'''"
   ]
  },
  {
   "cell_type": "code",
   "execution_count": 80,
   "metadata": {},
   "outputs": [
    {
     "name": "stderr",
     "output_type": "stream",
     "text": [
      "INFO:pystan:COMPILING THE C++ CODE FOR MODEL anon_model_dabc85ba871929f691cd2c541e749fce NOW.\n"
     ]
    }
   ],
   "source": [
    "sm = pystan.StanModel(model_code=data_code)"
   ]
  },
  {
   "cell_type": "code",
   "execution_count": 71,
   "metadata": {
    "collapsed": true
   },
   "outputs": [],
   "source": [
    "factory_model_path = 'stan_models/factory_model.pkl'"
   ]
  },
  {
   "cell_type": "code",
   "execution_count": 69,
   "metadata": {
    "collapsed": true
   },
   "outputs": [],
   "source": [
    "with open('stan_models/factory_model.pkl', 'wb') as f:\n",
    "    pickle.dump(sm, f)"
   ]
  },
  {
   "cell_type": "code",
   "execution_count": 72,
   "metadata": {},
   "outputs": [],
   "source": [
    "sm = pickle.load(open(factory_model_path, 'rb'))"
   ]
  },
  {
   "cell_type": "code",
   "execution_count": 81,
   "metadata": {},
   "outputs": [
    {
     "data": {
      "text/plain": [
       "Inference for Stan model: anon_model_dabc85ba871929f691cd2c541e749fce.\n",
       "4 chains, each with iter=2000; warmup=1000; thin=1; \n",
       "post-warmup draws per chain=1000, total post-warmup draws=4000.\n",
       "\n",
       "        mean se_mean     sd   2.5%    25%    50%    75%  97.5%  n_eff   Rhat\n",
       "mu[0]  75.94    0.11   6.84  62.02  71.68  76.02  80.28  89.02   4000    1.0\n",
       "mu[1] 106.21    0.11   6.79  92.89 101.85 106.17 110.44 120.27   4000    1.0\n",
       "mu[2]  87.83    0.11   6.92  74.37   83.3  87.89  92.23 101.49   4000    1.0\n",
       "mu[3] 111.54     0.1   6.55   98.2 107.43 111.57  115.8 124.14   4000    1.0\n",
       "mu[4]  89.95    0.11   6.91  76.73  85.51  89.94   94.3 103.92   4000    1.0\n",
       "mu[5]  85.99    0.11   6.84  72.43  81.57  86.02  90.47 100.02   4000    1.0\n",
       "sigma  15.12    0.04   2.37  11.34   13.4  14.84  16.46  20.56   4000    1.0\n",
       "lp__  -92.92    0.06   2.15 -98.17 -94.07 -92.55 -91.33 -89.88   1104    1.0\n",
       "\n",
       "Samples were drawn using NUTS at Tue Oct 31 18:00:24 2017.\n",
       "For each parameter, n_eff is a crude measure of effective sample size,\n",
       "and Rhat is the potential scale reduction factor on split chains (at \n",
       "convergence, Rhat=1)."
      ]
     },
     "execution_count": 81,
     "metadata": {},
     "output_type": "execute_result"
    }
   ],
   "source": [
    "fit = sm.sampling(data=data, seed=194838);fit"
   ]
  },
  {
   "cell_type": "code",
   "execution_count": 82,
   "metadata": {
    "collapsed": true
   },
   "outputs": [],
   "source": [
    "samples = fit.extract(permuted=True)"
   ]
  },
  {
   "cell_type": "code",
   "execution_count": 90,
   "metadata": {},
   "outputs": [
    {
     "name": "stdout",
     "output_type": "stream",
     "text": [
      "0 of 4000 iterations saturated the maximum tree depth of 10 (0.0%)\n",
      "0.0 of 4000 iterations ended with a divergence (0.0%)\n"
     ]
    }
   ],
   "source": [
    "stan_utility.check_treedepth(fit)\n",
    "stan_utility.check_energy(fit)\n",
    "stan_utility.check_div(fit)"
   ]
  },
  {
   "cell_type": "markdown",
   "metadata": {},
   "source": [
    "### i) the posterior distribution of the mean of the quality measurements of the sixth machine "
   ]
  },
  {
   "cell_type": "code",
   "execution_count": null,
   "metadata": {
    "collapsed": true
   },
   "outputs": [],
   "source": []
  },
  {
   "cell_type": "markdown",
   "metadata": {},
   "source": [
    "### ii) the predictive distribution for another quality measurement of the sixth machine"
   ]
  },
  {
   "cell_type": "markdown",
   "metadata": {},
   "source": [
    "### iii) the posterior distribution of the mean of the quality measurements of the seventh machine."
   ]
  }
 ],
 "metadata": {
  "kernelspec": {
   "display_name": "Python 3",
   "language": "python",
   "name": "python3"
  },
  "language_info": {
   "codemirror_mode": {
    "name": "ipython",
    "version": 3
   },
   "file_extension": ".py",
   "mimetype": "text/x-python",
   "name": "python",
   "nbconvert_exporter": "python",
   "pygments_lexer": "ipython3",
   "version": "3.6.1"
  }
 },
 "nbformat": 4,
 "nbformat_minor": 2
}
