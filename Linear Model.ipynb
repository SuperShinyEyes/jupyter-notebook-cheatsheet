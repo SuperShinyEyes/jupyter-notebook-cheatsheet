{
 "cells": [
  {
   "cell_type": "code",
   "execution_count": 1,
   "metadata": {
    "collapsed": true
   },
   "outputs": [],
   "source": [
    "import numpy as np\n",
    "\n",
    "%matplotlib inline\n",
    "import matplotlib.pyplot as plt\n",
    "\n",
    "import pandas as pd\n",
    "\n",
    "pd.set_option('display.width', 500)\n",
    "pd.set_option('display.max_columns', 100)\n",
    "import seaborn as sns\n",
    "\n",
    "from scipy.stats import distributions\n",
    "\n",
    "import pickle\n",
    "\n",
    "# add utilities directory to path\n",
    "import os, sys\n",
    "util_path = os.path.abspath('utilities_and_data')\n",
    "if util_path not in sys.path and os.path.exists(util_path):\n",
    "    sys.path.insert(0, util_path)\n",
    "\n",
    "# import from utilities\n",
    "import stan_utility\n",
    "import stan_helper\n",
    "\n",
    "import pystan"
   ]
  },
  {
   "cell_type": "code",
   "execution_count": 2,
   "metadata": {
    "collapsed": true
   },
   "outputs": [],
   "source": [
    "def get_stan_model(model_name, model_code, get_new=False):\n",
    "    path = os.path.abspath(os.path.join(os.path.curdir, model_name))\n",
    "\n",
    "    if not get_new and os.path.exists(path):\n",
    "        print(\"Model exists already! Returning pickle.\")\n",
    "        return pickle.load(open(path, 'rb'))\n",
    "    \n",
    "    print(\"Path doesn't exist. Compiling model. It might take few minutes...\")\n",
    "    import pystan\n",
    "    sm = pystan.StanModel(model_code=model_code)\n",
    "    with open(model_name, 'wb') as f:\n",
    "        pickle.dump(sm, f)\n",
    "    return sm\n"
   ]
  },
  {
   "cell_type": "code",
   "execution_count": 3,
   "metadata": {
    "collapsed": true
   },
   "outputs": [],
   "source": [
    "with open(\"data/drowning.txt\") as f:\n",
    "    lines = f.read().splitlines()\n",
    "    lines = [l.split() for l in lines]\n",
    "\n",
    "years = np.array([int(l[0]) for l in lines])\n",
    "victims = np.array([int(l[1]) for l in lines])\n",
    "N = len(years)\n",
    "xpred = 2016    # Predict for 2016"
   ]
  },
  {
   "cell_type": "code",
   "execution_count": 4,
   "metadata": {},
   "outputs": [],
   "source": [
    "data =pd.DataFrame.from_items([('years',years), ('victims', victims)])\n",
    "# sns.pairplot(data, x_vars=['years'], y_vars='victims', size=7, kind='reg')"
   ]
  },
  {
   "cell_type": "code",
   "execution_count": 5,
   "metadata": {
    "collapsed": true
   },
   "outputs": [],
   "source": [
    "# Gaussian linear model with uniform priors\n",
    "drowning_code = \"\"\"\n",
    "data {\n",
    "  int<lower=0> N; // number of data points\n",
    "  vector[N] x; //\n",
    "  vector[N] y; //\n",
    "  real xpred; // input location for prediction\n",
    " }\n",
    "parameters {\n",
    "  real alpha;\n",
    "  real beta;\n",
    "  real<lower=0> sigma;\n",
    "}\n",
    "transformed parameters {\n",
    "  vector[N] mu;\n",
    "  mu = alpha + beta*x;\n",
    "}\n",
    "model {\n",
    "  y ~ normal(mu, sigma);\n",
    "}\n",
    "generated quantities {\n",
    "  real ypred;\n",
    "  vector[N] log_lik;\n",
    "  ypred = normal_rng(alpha + beta*xpred, sigma);\n",
    "  for (i in 1:N)\n",
    "    log_lik[i] = normal_lpdf(y[i] | mu[i], sigma);\n",
    "}\n",
    "\"\"\""
   ]
  },
  {
   "cell_type": "code",
   "execution_count": 6,
   "metadata": {
    "collapsed": true
   },
   "outputs": [],
   "source": [
    "data = dict(\n",
    "    N = N,\n",
    "    x = years,\n",
    "    y = victims,\n",
    "    xpred = xpred,\n",
    ")"
   ]
  },
  {
   "cell_type": "code",
   "execution_count": 7,
   "metadata": {},
   "outputs": [
    {
     "name": "stdout",
     "output_type": "stream",
     "text": [
      "Model exists already! Returning pickle.\n"
     ]
    }
   ],
   "source": [
    "# sm = pystan.StanModel(model_code=drowning_code)\n",
    "sm_drowning = get_stan_model('drowning_model.pkl', drowning_code)"
   ]
  },
  {
   "cell_type": "markdown",
   "metadata": {},
   "source": [
    "## Question 1.1\n",
    "What can you say about the trend in the number of people drown per year? Plot the histogram of the slope of the linear model."
   ]
  },
  {
   "cell_type": "code",
   "execution_count": 8,
   "metadata": {},
   "outputs": [],
   "source": [
    "fit = sm_drowning.sampling(data=data, iter=1000, chains=4); "
   ]
  },
  {
   "cell_type": "code",
   "execution_count": 26,
   "metadata": {},
   "outputs": [
    {
     "data": {
      "text/plain": [
       "[<matplotlib.lines.Line2D at 0x11fdcd630>]"
      ]
     },
     "execution_count": 26,
     "metadata": {},
     "output_type": "execute_result"
    },
    {
     "data": {
      "image/png": "[encoded data removed]",
      "text/plain": [
       "<matplotlib.figure.Figure at 0x11fb02eb8>"
      ]
     },
     "metadata": {},
     "output_type": "display_data"
    }
   ],
   "source": [
    "mu = [fit['mu'][:,i].mean() for i in range(34)]\n",
    "years = [1980 + i for i in range(34)]\n",
    "plt.plot(years, mu)"
   ]
  },
  {
   "cell_type": "markdown",
   "metadata": {},
   "source": [
    "If you look at the data, the number of people drown per year is decreasing."
   ]
  },
  {
   "cell_type": "code",
   "execution_count": 27,
   "metadata": {
    "collapsed": true
   },
   "outputs": [],
   "source": [
    "samples = fit.extract(permuted=True)"
   ]
  },
  {
   "cell_type": "markdown",
   "metadata": {},
   "source": [
    "### Histogram of the slope of the linear model"
   ]
  },
  {
   "cell_type": "code",
   "execution_count": 28,
   "metadata": {},
   "outputs": [
    {
     "data": {
      "text/plain": [
       "<matplotlib.text.Text at 0x11fce6748>"
      ]
     },
     "execution_count": 28,
     "metadata": {},
     "output_type": "execute_result"
    },
    {
     "data": {
      "image/png": "[encoded data removed]",
      "text/plain": [
       "<matplotlib.figure.Figure at 0x11fe065f8>"
      ]
     },
     "metadata": {},
     "output_type": "display_data"
    }
   ],
   "source": [
    "# Warmups are already discarded\n",
    "plt.hist(samples['beta'], 50)\n",
    "plt.xlabel(\"Beta\")"
   ]
  },
  {
   "cell_type": "markdown",
   "metadata": {},
   "source": [
    "### 2). What does the model predict for year 2016? Plot the histogram of the posterior predictive distribution for number of people drown at x = 2016.\n"
   ]
  },
  {
   "cell_type": "markdown",
   "metadata": {},
   "source": [
    "For year 2016 the model predicts __156.95 people would die in average with standard error mean of 0.75__."
   ]
  },
  {
   "cell_type": "code",
   "execution_count": 29,
   "metadata": {},
   "outputs": [
    {
     "data": {
      "text/plain": [
       "<matplotlib.text.Text at 0x11ffb8cc0>"
      ]
     },
     "execution_count": 29,
     "metadata": {},
     "output_type": "execute_result"
    },
    {
     "data": {
      "image/png": "[encoded data removed]",
      "text/plain": [
       "<matplotlib.figure.Figure at 0x1200cef60>"
      ]
     },
     "metadata": {},
     "output_type": "display_data"
    }
   ],
   "source": [
    "plt.hist(samples['ypred'], 50)\n",
    "plt.xlabel(\"Drowned\")"
   ]
  },
  {
   "cell_type": "markdown",
   "metadata": {},
   "source": [
    "# 2. Hierarchical model: factory data with Stan (3p)\n",
    "\n",
    "The provided factory.txt file contains quality control measurements from 6 machines in a factory (units of the measurements are irrelevant here). Quality control measurements are expensive and time-consuming, so only 5 measurements were done for each machine. In addition to the existing machines, we are interested in the quality of another machine (the seventh machine). \n",
    "\n",
    "Implement a \n",
    "- separate, \n",
    "- pooled and \n",
    "- hierarchical Gaussian model \n",
    "    \n",
    "described in Section 11.6 using Stan. \n",
    "\n",
    "Similarly as in the model description in the book, __use the same measurement standard deviation σ for all the groups in the hierarchical model__. In the separate model however, __use separate measurement standard deviation $\\sigma_j$ for each group j__. \n",
    "\n",
    "Using each of the three models – separate, pooled, and hierarchical – report (__plot histogram and comment on the results__):\n",
    "\n",
    "### Reference\n",
    "- http://twiecki.github.io/blog/2014/03/17/bayesian-glms-3/#The-Models"
   ]
  },
  {
   "cell_type": "markdown",
   "metadata": {},
   "source": [
    "## Questions\n",
    "- What is the random variable here?\n",
    "    - How do we predict without rv?\n",
    "    - What is predictive distribution?"
   ]
  },
  {
   "cell_type": "markdown",
   "metadata": {},
   "source": [
    "Load model"
   ]
  },
  {
   "cell_type": "code",
   "execution_count": 30,
   "metadata": {
    "collapsed": true
   },
   "outputs": [],
   "source": [
    "d = np.loadtxt(\"data/factory.txt\")"
   ]
  },
  {
   "cell_type": "markdown",
   "metadata": {},
   "source": [
    "## (2-1). Separate model with unequal standard deviations\n",
    "\n",
    "$$ y_{i,m} = \\alpha_m + \\beta_m \\times \\text{machine}_{i,m} + \\epsilon_m $$\n",
    "\n",
    "- $i$: measurement index\n",
    "- $m$: machine being measured\n",
    "\n",
    "$\\epsilon$ is an error term sampled from $N(\\mu, \\sigma_\\epsilon)$\n",
    "\n",
    "Here we say that all six machines are completely different with no similarities. Based on this model we won't be able to predict another machine."
   ]
  },
  {
   "cell_type": "code",
   "execution_count": 31,
   "metadata": {},
   "outputs": [
    {
     "data": {
      "text/plain": [
       "((30,), (30,))"
      ]
     },
     "execution_count": 31,
     "metadata": {},
     "output_type": "execute_result"
    }
   ],
   "source": [
    "x = np.tile(np.arange(1, 7), d.shape[0])\n",
    "y = d.ravel();y\n",
    "N = len(x)\n",
    "data = dict(\n",
    "    N = N,\n",
    "    K = 6,  # 6 machines\n",
    "    x = x,  # group indicators\n",
    "    y = y,   # observations\n",
    "    target_machine = 5  # 6th machine\n",
    ")\n",
    "\n",
    "x.shape, y.shape"
   ]
  },
  {
   "cell_type": "code",
   "execution_count": 32,
   "metadata": {
    "collapsed": true
   },
   "outputs": [],
   "source": [
    "#  Comparison of k groups with common variance (ANOVA)\n",
    "data_code = '''\n",
    "data {\n",
    "  int<lower=0> N; // number of data points\n",
    "  int<lower=0> K; // number of groups\n",
    "  int<lower=1,upper=K> x[N]; // group indicator\n",
    "  vector[N] y; //\n",
    "  int<lower=0> target_machine;\n",
    "}\n",
    "parameters {\n",
    "  vector[K] mu;        // group means\n",
    "  vector<lower=0>[K] sigma; // group stds\n",
    "  //real<lower=0> sigma; // common std\n",
    "}\n",
    "model {\n",
    "  //for (i in 1:N)\n",
    "  //  y[i] ~ normal(mu[x[i]], sigma[x[i]]);\n",
    "    y ~ normal(mu[x], sigma[x]);\n",
    "}\n",
    "\n",
    "generated quantities {\n",
    "  real ypred;\n",
    "  vector[N] log_lik;\n",
    "  ypred = normal_rng(mu[target_machine], sigma[target_machine]);\n",
    "  for (i in 1:N)\n",
    "    log_lik[i] = normal_lpdf(y[i] | mu[x[i]], sigma);\n",
    "}\n",
    "'''"
   ]
  },
  {
   "cell_type": "code",
   "execution_count": 33,
   "metadata": {},
   "outputs": [
    {
     "name": "stdout",
     "output_type": "stream",
     "text": [
      "Model exists already! Returning pickle.\n"
     ]
    }
   ],
   "source": [
    "# sm_separate = get_stan_model('factory_model.pkl', data_code, get_new=True)\n",
    "sm_separate = get_stan_model('factory_model.pkl', data_code)"
   ]
  },
  {
   "cell_type": "code",
   "execution_count": 34,
   "metadata": {},
   "outputs": [],
   "source": [
    "fit_separate = sm_separate.sampling(data=data, seed=194838);"
   ]
  },
  {
   "cell_type": "code",
   "execution_count": 35,
   "metadata": {},
   "outputs": [
    {
     "name": "stdout",
     "output_type": "stream",
     "text": [
      "0 of 4000 iterations saturated the maximum tree depth of 10 (0.0%)\n",
      "0.0 of 4000 iterations ended with a divergence (0.0%)\n"
     ]
    }
   ],
   "source": [
    "# Extract samples in different forms for different parameters.\n",
    "# permuted : bool\n",
    "#    If True, returned samples are permuted. All chains are\n",
    "#    merged and warmup samples are discarded.\n",
    "samples_separate = fit_separate.extract(permuted=True)\n",
    "\n",
    "stan_utility.check_treedepth(fit_separate)\n",
    "stan_utility.check_energy(fit_separate)\n",
    "stan_utility.check_div(fit_separate)"
   ]
  },
  {
   "cell_type": "markdown",
   "metadata": {},
   "source": [
    "`mu` is group mean. So get a column not row."
   ]
  },
  {
   "cell_type": "code",
   "execution_count": 36,
   "metadata": {},
   "outputs": [
    {
     "data": {
      "text/plain": [
       "<matplotlib.text.Text at 0x12028dfd0>"
      ]
     },
     "execution_count": 36,
     "metadata": {},
     "output_type": "execute_result"
    },
    {
     "data": {
      "image/png": "[encoded data removed]",
      "text/plain": [
       "<matplotlib.figure.Figure at 0x1201a3e10>"
      ]
     },
     "metadata": {},
     "output_type": "display_data"
    }
   ],
   "source": [
    "plt.hist(samples_separate['mu'][:,5], 50)\n",
    "plt.xlabel(\"the posterior distribution of the mean of the quality measurements of the sixth machine \")"
   ]
  },
  {
   "cell_type": "code",
   "execution_count": 75,
   "metadata": {},
   "outputs": [
    {
     "data": {
      "image/png": "[encoded data removed]",
      "text/plain": [
       "<matplotlib.figure.Figure at 0x121fdfba8>"
      ]
     },
     "metadata": {},
     "output_type": "display_data"
    }
   ],
   "source": [
    "# create figure\n",
    "fig, axes = plt.subplots(3, 1, figsize=(10, 15), sharex=True)\n",
    "\n",
    "# plot the posterior density\n",
    "ax = axes[0]\n",
    "ax.set_xlim([-100,200])\n",
    "ax.hist(samples_separate['mu'][:,5], 50)\n",
    "ax.set_title('Posterior distribution of the\\n sixth mahine for separate modeling')\n",
    "\n",
    "ax = axes[1]\n",
    "ax.hist(samples_separate['ypred'], 50)\n",
    "ax.set_title(\"Predictive distribution of the\\n sixth mahine for separate modeling\")\n",
    "\n",
    "ax = axes[2]\n",
    "ax.set_title(\"Seventh machine posterior distribution\\n doesn't exist for separate modeling.\")\n",
    "\n",
    "\n",
    "fig.tight_layout()"
   ]
  },
  {
   "cell_type": "markdown",
   "metadata": {},
   "source": [
    "Posterior and predictive distributions look similar. For separate modeling, the seventh machine's posterior distribution doesn't exist, because separate modeling cannot infer a new machine as all six machines were supposed as completely different machies."
   ]
  },
  {
   "cell_type": "markdown",
   "metadata": {},
   "source": [
    "## (2-2). Pooled model\n",
    "\n",
    "$$ y_{i,m} = \\alpha + \\beta \\times \\text{machine}_{i,m} + \\epsilon_m $$\n",
    "\n",
    "- $i$: measurement index\n",
    "- $m$: machine being measured\n",
    "\n",
    "$\\epsilon$ is an error term sampled from $N(\\mu, \\sigma_\\epsilon)$\n",
    "\n",
    "So here we are aggregating all the machines into a single machines as they are __exactly__ the same."
   ]
  },
  {
   "cell_type": "code",
   "execution_count": 38,
   "metadata": {
    "collapsed": true
   },
   "outputs": [],
   "source": [
    "# Gaussian linear model with uniform priors\n",
    "pooling_code = \"\"\"\n",
    "data {\n",
    "  int<lower=0> N; // number of data points\n",
    "  vector[N] y; //\n",
    "}\n",
    "parameters {\n",
    "  real mu;        // group means\n",
    "  real<lower=0> sigma; // common std\n",
    "}\n",
    "model {\n",
    "  y ~ normal(mu, sigma);\n",
    "}\n",
    "generated quantities {\n",
    "  real ypred;\n",
    "  vector[N] log_lik;\n",
    "  ypred = normal_rng(mu, sigma);\n",
    "  for (i in 1:N)\n",
    "    log_lik[i] = normal_lpdf(y[i] | mu, sigma);\n",
    "}\n",
    "\"\"\""
   ]
  },
  {
   "cell_type": "code",
   "execution_count": 42,
   "metadata": {},
   "outputs": [
    {
     "name": "stdout",
     "output_type": "stream",
     "text": [
      "Model exists already! Returning pickle.\n"
     ]
    }
   ],
   "source": [
    "# sm_pooled = get_stan_model(\"factory_pooling_posterior\", pooling_code, get_new=True)\n",
    "sm_pooled = get_stan_model(\"factory_pooling_posterior\", pooling_code)"
   ]
  },
  {
   "cell_type": "markdown",
   "metadata": {},
   "source": [
    "Pool all the observations. I don't know how to not to use vectors so treat this as observations of 1 machine"
   ]
  },
  {
   "cell_type": "code",
   "execution_count": 43,
   "metadata": {
    "collapsed": true
   },
   "outputs": [],
   "source": [
    "x = np.full(1, 1)\n",
    "y = d.ravel();y\n",
    "N = len(y)\n",
    "data = dict(\n",
    "    N = N,\n",
    "    y = y   # observations\n",
    ")"
   ]
  },
  {
   "cell_type": "code",
   "execution_count": 46,
   "metadata": {},
   "outputs": [],
   "source": [
    "fit_pooled = sm_pooled.sampling(data=data, seed=194838)"
   ]
  },
  {
   "cell_type": "code",
   "execution_count": 47,
   "metadata": {
    "collapsed": true
   },
   "outputs": [],
   "source": [
    "samples_pooled = fit_pooled.extract(permuted=True)"
   ]
  },
  {
   "cell_type": "code",
   "execution_count": 48,
   "metadata": {},
   "outputs": [
    {
     "data": {
      "text/plain": [
       "<matplotlib.text.Text at 0x121295908>"
      ]
     },
     "execution_count": 48,
     "metadata": {},
     "output_type": "execute_result"
    },
    {
     "data": {
      "image/png": "[encoded data removed]",
      "text/plain": [
       "<matplotlib.figure.Figure at 0x121042e10>"
      ]
     },
     "metadata": {},
     "output_type": "display_data"
    }
   ],
   "source": [
    "plt.hist(samples_pooled['mu'], 50)\n",
    "plt.xlabel(\"Posterior distribution of the\\n sixth mahine for pooled modeling\")"
   ]
  },
  {
   "cell_type": "code",
   "execution_count": 74,
   "metadata": {},
   "outputs": [
    {
     "data": {
      "image/png": "[encoded data removed]",
      "text/plain": [
       "<matplotlib.figure.Figure at 0x122626470>"
      ]
     },
     "metadata": {},
     "output_type": "display_data"
    }
   ],
   "source": [
    "# create figure\n",
    "fig, axes = plt.subplots(3, 1, figsize=(10, 15), sharex=True)\n",
    "\n",
    "# plot the posterior density\n",
    "ax = axes[0]\n",
    "ax.hist(samples_pooled['mu'], 50)\n",
    "ax.set_title('Posterior distribution of the\\n sixth mahine for pooled modeling')\n",
    "\n",
    "ax = axes[1]\n",
    "ax.hist(samples_pooled['ypred'], 50)\n",
    "ax.set_title(\"Predictive distribution of the\\n sixth mahine for pooled modeling\")\n",
    "\n",
    "ax = axes[2]\n",
    "ax.hist(samples_pooled['mu'], 50)\n",
    "ax.set_title(\"Posterior distribution of the\\n seventh mahine for pooled modeling\")\n",
    "\n",
    "\n",
    "fig.tight_layout()"
   ]
  },
  {
   "cell_type": "markdown",
   "metadata": {},
   "source": [
    "The posterior distribution of the seventh mahine for pooled modeling is the same as any machine because they are __identical__ machines."
   ]
  },
  {
   "cell_type": "markdown",
   "metadata": {},
   "source": [
    "### (2-3) hierarchical model\n",
    "\n",
    "Hierarchical modeling is a statistically rigorous way to make scientific inferences about a population based on many groups/observations. Humanly speaking, it's a middle ground between pooling and separate modeling. We will have the same formula as separate:\n",
    "\n",
    "$$ y_{i,m} = \\alpha_m + \\beta_m \\times \\text{machine}_{i,m} + \\epsilon_m $$\n",
    "\n",
    "But $\\alpha$ and $\\beta$ come from a common group distribution:\n",
    "\n",
    "$$\\alpha_{c} \\sim \\mathcal{N}(\\mu_{\\alpha}, \\sigma_{\\alpha}^2)$$\n",
    "$$\\beta_{c} \\sim \\mathcal{N}(\\mu_{\\beta}, \\sigma_{\\beta}^2)$$\n",
    "\n",
    "So we model coefficients and predictions. That's why it's called hierarchical/multilevel modeling."
   ]
  },
  {
   "cell_type": "code",
   "execution_count": 50,
   "metadata": {
    "collapsed": true
   },
   "outputs": [],
   "source": [
    "x = np.tile(np.arange(1, 7), d.shape[0])\n",
    "y = d.ravel();y\n",
    "N = len(x)\n",
    "data = dict(\n",
    "    N = N,\n",
    "    K = 7,  # 6 machines\n",
    "    x = x,  # group indicators\n",
    "    y = y,   # observations\n",
    "    target_machine = 5  # 6th machine\n",
    ")"
   ]
  },
  {
   "cell_type": "markdown",
   "metadata": {},
   "source": [
    "Our linear model:\n",
    "$$ y = \\beta_0 + \\beta_1 \\times x + e $$\n",
    "\n",
    "$e$ is an error term sampled from $N(\\mu, \\sigma)$\n",
    "\n",
    "Priors for each machine is not fixed, but rather depend on other latent variables."
   ]
  },
  {
   "cell_type": "code",
   "execution_count": 63,
   "metadata": {
    "collapsed": true
   },
   "outputs": [],
   "source": [
    "#  Comparison of k groups with common variance and\n",
    "#  hierarchical prior for the mean\n",
    "\n",
    "data_code = '''\n",
    "data {\n",
    "    int<lower=0> N; // number of data points\n",
    "    int<lower=0> K; // number of groups\n",
    "    int<lower=1,upper=K> x[N]; // group indicator\n",
    "    vector[N] y; //\n",
    "    int<lower=0> target_machine;\n",
    "}\n",
    "parameters {\n",
    "    real<lower=70, upper=110> mu0; // uniform prior mean\n",
    "    real<lower=0, upper=20> sigma0; // uniform prior std\n",
    "    vector[K] mu;         // group means\n",
    "    real<lower=0> sigma;  // common std\n",
    "}\n",
    "model {\n",
    "  mu ~ normal(mu0, sigma0); // population prior with unknown parameters\n",
    "  y ~ normal(mu[x], sigma);\n",
    "  //for (i in 1:N)\n",
    "  //mu7 ~ normal(mu0, sigma0);  // Is this correct? Idk. mu7 ~ normal(mu0, sigma0) gave me low mean around 19.\n",
    "}\n",
    "generated quantities {\n",
    "  real ypred;\n",
    "  real mu7;\n",
    "  real ypred7;\n",
    "  vector[N] log_lik;\n",
    "  ypred = normal_rng(mu[target_machine], sigma);\n",
    "  for (i in 1:N)\n",
    "    log_lik[i] = normal_lpdf(y[i] | mu[x[i]], sigma);\n",
    "    \n",
    "  mu7 = normal_rng(mu0,sigma0);\n",
    "  ypred7 = normal_rng(mu7, sigma);\n",
    "\n",
    "}\n",
    "'''"
   ]
  },
  {
   "cell_type": "code",
   "execution_count": 64,
   "metadata": {},
   "outputs": [
    {
     "name": "stderr",
     "output_type": "stream",
     "text": [
      "INFO:pystan:COMPILING THE C++ CODE FOR MODEL anon_model_12d9d17d21e9ce54098156a5d9096d61 NOW.\n"
     ]
    }
   ],
   "source": [
    "sm_hierarchical =  pystan.StanModel(model_code=data_code)"
   ]
  },
  {
   "cell_type": "code",
   "execution_count": 72,
   "metadata": {},
   "outputs": [],
   "source": [
    "fit_hierarchical = sm_hierarchical.sampling(data=data, seed=194838);"
   ]
  },
  {
   "cell_type": "code",
   "execution_count": 73,
   "metadata": {},
   "outputs": [],
   "source": [
    "# Extract samples in different forms for different parameters.\n",
    "# permuted : bool\n",
    "#    If True, returned samples are permuted. All chains are\n",
    "#    merged and warmup samples are discarded.\n",
    "samples = fit_hierarchical.extract(permuted=True)\n",
    "\n",
    "# stan_utility.check_treedepth(fit_hierarchical)\n",
    "# stan_utility.check_energy(fit_hierarchical)\n",
    "# stan_utility.check_div(fit_hierarchical)"
   ]
  },
  {
   "cell_type": "markdown",
   "metadata": {},
   "source": [
    "`mu` is group mean. So get a column not row."
   ]
  },
  {
   "cell_type": "code",
   "execution_count": 67,
   "metadata": {},
   "outputs": [
    {
     "data": {
      "text/plain": [
       "((4000,), (4000,), (4000,))"
      ]
     },
     "execution_count": 67,
     "metadata": {},
     "output_type": "execute_result"
    }
   ],
   "source": [
    "samples['mu'][:,5].shape,samples['ypred'].shape,samples['mu7'].shape"
   ]
  },
  {
   "cell_type": "code",
   "execution_count": 71,
   "metadata": {},
   "outputs": [
    {
     "data": {
      "image/png": "[encoded data removed]",
      "text/plain": [
       "<matplotlib.figure.Figure at 0x122738d68>"
      ]
     },
     "metadata": {},
     "output_type": "display_data"
    }
   ],
   "source": [
    "# create figure\n",
    "fig, axes = plt.subplots(3, 1, figsize=(10, 15), sharex=True)\n",
    "\n",
    "# plot the posterior density\n",
    "ax = axes[0]\n",
    "ax.hist(samples['mu'][:,5], 50)\n",
    "ax.set_title('Posterior distribution of the\\n sixth mahine for hierarchical modeling')\n",
    "\n",
    "ax = axes[1]\n",
    "ax.hist(samples['ypred'], 50)\n",
    "ax.set_title(\"Predictive distribution of the\\n sixth mahine for hierarchical modeling\")\n",
    "\n",
    "ax = axes[2]\n",
    "ax.hist(samples['mu7'], 50)\n",
    "ax.set_title(\"Posterior distribution of the\\n seventh mahine for hierarchical modeling\")\n",
    "\n",
    "\n",
    "fig.tight_layout()"
   ]
  },
  {
   "cell_type": "markdown",
   "metadata": {},
   "source": [
    "The three distributions have similar means"
   ]
  }
 ],
 "metadata": {
  "kernelspec": {
   "display_name": "Python 3",
   "language": "python",
   "name": "python3"
  },
  "language_info": {
   "codemirror_mode": {
    "name": "ipython",
    "version": 3
   },
   "file_extension": ".py",
   "mimetype": "text/x-python",
   "name": "python",
   "nbconvert_exporter": "python",
   "pygments_lexer": "ipython3",
   "version": "3.6.1"
  }
 },
 "nbformat": 4,
 "nbformat_minor": 2
}
