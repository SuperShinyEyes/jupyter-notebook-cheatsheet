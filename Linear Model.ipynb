{
 "cells": [
  {
   "cell_type": "code",
   "execution_count": 1,
   "metadata": {
    "collapsed": true
   },
   "outputs": [],
   "source": [
    "import numpy as np\n",
    "\n",
    "%matplotlib inline\n",
    "import matplotlib.pyplot as plt\n",
    "\n",
    "import pandas as pd\n",
    "\n",
    "pd.set_option('display.width', 500)\n",
    "pd.set_option('display.max_columns', 100)\n",
    "import seaborn as sns\n",
    "\n",
    "from scipy.stats import distributions\n",
    "\n",
    "import pickle\n",
    "\n",
    "# add utilities directory to path\n",
    "import os, sys\n",
    "util_path = os.path.abspath('utilities_and_data')\n",
    "if util_path not in sys.path and os.path.exists(util_path):\n",
    "    sys.path.insert(0, util_path)\n",
    "\n",
    "# import from utilities\n",
    "import stan_utility\n",
    "import stan_helper\n",
    "\n",
    "import pystan"
   ]
  },
  {
   "cell_type": "code",
   "execution_count": 2,
   "metadata": {
    "collapsed": true
   },
   "outputs": [],
   "source": [
    "def get_stan_model(model_name, model_code, get_new=False):\n",
    "    path = os.path.abspath(os.path.join(os.path.curdir, model_name))\n",
    "\n",
    "    if not get_new and os.path.exists(path):\n",
    "        print(\"Model exists already! Returning pickle.\")\n",
    "        return pickle.load(open(path, 'rb'))\n",
    "    \n",
    "    print(\"Path doesn't exist. Compiling model. It might take few minutes...\")\n",
    "    import pystan\n",
    "    sm = pystan.StanModel(model_code=model_code)\n",
    "    with open(model_name, 'wb') as f:\n",
    "        pickle.dump(sm, f)\n",
    "    return sm\n"
   ]
  },
  {
   "cell_type": "code",
   "execution_count": 5,
   "metadata": {
    "collapsed": true
   },
   "outputs": [],
   "source": [
    "with open(\"data/drowning.txt\") as f:\n",
    "    lines = f.read().splitlines()\n",
    "    lines = [l.split() for l in lines]\n",
    "\n",
    "years = np.array([int(l[0]) for l in lines])\n",
    "victims = np.array([int(l[1]) for l in lines])\n",
    "N = len(years)\n",
    "xpred = 2016    # Predict for 2016"
   ]
  },
  {
   "cell_type": "code",
   "execution_count": 6,
   "metadata": {},
   "outputs": [
    {
     "data": {
      "text/plain": [
       "<seaborn.axisgrid.PairGrid at 0x111859a58>"
      ]
     },
     "execution_count": 6,
     "metadata": {},
     "output_type": "execute_result"
    },
    {
     "data": {
      "image/png": "[encoded data removed]",
      "text/plain": [
       "<matplotlib.figure.Figure at 0x111859a20>"
      ]
     },
     "metadata": {},
     "output_type": "display_data"
    }
   ],
   "source": [
    "data =pd.DataFrame.from_items([('years',years), ('victims', victims)])\n",
    "sns.pairplot(data, x_vars=['years'], y_vars='victims', size=7, kind='reg')"
   ]
  },
  {
   "cell_type": "code",
   "execution_count": 7,
   "metadata": {
    "collapsed": true
   },
   "outputs": [],
   "source": [
    "# Gaussian linear model with uniform priors\n",
    "drowning_code = \"\"\"\n",
    "data {\n",
    "  int<lower=0> N; // number of data points\n",
    "  vector[N] x; //\n",
    "  vector[N] y; //\n",
    "  real xpred; // input location for prediction\n",
    " }\n",
    "parameters {\n",
    "  real alpha;\n",
    "  real beta;\n",
    "  real<lower=0> sigma;\n",
    "}\n",
    "transformed parameters {\n",
    "  vector[N] mu;\n",
    "  mu = alpha + beta*x;\n",
    "}\n",
    "model {\n",
    "  y ~ normal(mu, sigma);\n",
    "}\n",
    "generated quantities {\n",
    "  real ypred;\n",
    "  vector[N] log_lik;\n",
    "  ypred = normal_rng(alpha + beta*xpred, sigma);\n",
    "  for (i in 1:N)\n",
    "    log_lik[i] = normal_lpdf(y[i] | mu[i], sigma);\n",
    "}\n",
    "\"\"\""
   ]
  },
  {
   "cell_type": "code",
   "execution_count": 8,
   "metadata": {
    "collapsed": true
   },
   "outputs": [],
   "source": [
    "data = dict(\n",
    "    N = N,\n",
    "    x = years,\n",
    "    y = victims,\n",
    "    xpred = xpred,\n",
    ")"
   ]
  },
  {
   "cell_type": "code",
   "execution_count": 9,
   "metadata": {},
   "outputs": [
    {
     "name": "stdout",
     "output_type": "stream",
     "text": [
      "Model exists already! Returning pickle.\n"
     ]
    }
   ],
   "source": [
    "# sm = pystan.StanModel(model_code=drowning_code)\n",
    "sm_drowning = get_stan_model('drowning_model.pkl', drowning_code)"
   ]
  },
  {
   "cell_type": "markdown",
   "metadata": {},
   "source": [
    "## Question 1.1\n",
    "What can you say about the trend in the number of people drown per year? Plot the histogram of the slope of the linear model."
   ]
  },
  {
   "cell_type": "code",
   "execution_count": 10,
   "metadata": {},
   "outputs": [
    {
     "data": {
      "text/plain": [
       "Inference for Stan model: anon_model_3f0e86229606a6afeeb9deac4462804e.\n",
       "4 chains, each with iter=1000; warmup=500; thin=1; \n",
       "post-warmup draws per chain=500, total post-warmup draws=2000.\n",
       "\n",
       "              mean se_mean     sd   2.5%    25%    50%    75%  97.5%  n_eff   Rhat\n",
       "alpha       6858.3   46.94 1051.6 4884.5 6145.9 6831.2 7506.3 8875.7    502   1.01\n",
       "beta         -3.32    0.02   0.53  -4.34  -3.65  -3.31  -2.97  -2.34    502   1.01\n",
       "sigma        29.49    0.16   3.89  23.39  26.77  29.01  31.52   39.2    596    1.0\n",
       "mu[0]       275.74    0.41  10.05 255.83 269.22  275.6 282.45 295.28    609   1.01\n",
       "mu[1]       272.41    0.38   9.59 253.71 266.21 272.28 278.85 291.24    623   1.01\n",
       "mu[2]       269.09    0.36   9.15 251.16 263.24 268.96 275.28 287.12    639   1.01\n",
       "mu[3]       265.76    0.34   8.72 248.78 260.16 265.73  271.6  282.9    659   1.01\n",
       "mu[4]       262.44    0.32    8.3 246.33 257.16 262.44 267.98 278.87    682   1.01\n",
       "mu[5]       259.11     0.3   7.88 243.82 254.06 259.19 264.42 274.69    711   1.01\n",
       "mu[6]       255.79    0.27   7.49 241.15 250.94 255.83  260.8 270.73    747   1.01\n",
       "mu[7]       252.46    0.25   7.11 238.44 247.81 252.49 257.22 266.56    791    1.0\n",
       "mu[8]       249.14    0.23   6.75 235.69 244.69 249.23 253.68 262.43    847    1.0\n",
       "mu[9]       245.81    0.21   6.42 232.92 241.57 245.95 250.12  258.7    917    1.0\n",
       "mu[10]      242.49    0.19   6.11 230.04 238.46 242.63 246.59 254.83   1007    1.0\n",
       "mu[11]      239.16    0.17   5.83 227.43 235.24 239.39 243.07 250.86   1123    1.0\n",
       "mu[12]      235.84    0.16   5.59 224.72 231.97 235.99 239.57 247.09   1257    1.0\n",
       "mu[13]      232.52    0.14   5.39 221.72 228.86 232.67 236.13 242.98   1416    1.0\n",
       "mu[14]      229.19    0.13   5.24 218.62 225.72 229.23 232.75  239.3   1578    1.0\n",
       "mu[15]      225.87    0.12   5.13 215.49 222.44 225.87 229.31 235.71   1696    1.0\n",
       "mu[16]      222.54    0.12   5.08 212.43 219.15 222.51 226.02 232.23   1771    1.0\n",
       "mu[17]      219.22    0.12   5.08 209.22 215.87 219.16 222.73 228.89   1782    1.0\n",
       "mu[18]      215.89    0.12   5.14 205.71 212.47 215.84 219.44 225.61   1725    1.0\n",
       "mu[19]      212.57    0.13   5.25 202.18 209.05 212.58  216.2 222.58   1619    1.0\n",
       "mu[20]      209.24    0.14    5.4 198.58 205.66 209.26 213.06 219.41   1492    1.0\n",
       "mu[21]      205.92    0.15   5.61 195.04 202.27 205.96 209.74 216.53   1350    1.0\n",
       "mu[22]      202.59    0.17   5.85 191.43 198.88 202.69 206.52 213.72   1209    1.0\n",
       "mu[23]      199.27    0.19   6.13 187.55 195.32 199.42  203.4 211.01   1093    1.0\n",
       "mu[24]      195.95    0.21   6.44 183.44 191.76 196.13 200.36 208.11    982    1.0\n",
       "mu[25]      192.62    0.23   6.78 179.43 188.24 192.83 197.16 205.51    903    1.0\n",
       "mu[26]       189.3    0.25   7.14 175.21 184.72 189.47 194.06 202.91    840    1.0\n",
       "mu[27]      185.97    0.27   7.52 171.02 181.08 186.16 190.93 200.18    790   1.01\n",
       "mu[28]      182.65    0.29   7.92 166.91 177.51 182.84 187.86 197.73    750   1.01\n",
       "mu[29]      179.32    0.31   8.33 162.65 173.95 179.52 184.76 195.07    718   1.01\n",
       "mu[30]       176.0    0.33   8.75 158.62 170.51 176.21  181.7 192.65    691   1.01\n",
       "mu[31]      172.67    0.36   9.19 154.25 166.93 173.01 178.65 190.23    669   1.01\n",
       "mu[32]      169.35    0.38   9.63 150.17 163.45 169.67 175.56 187.99    650   1.01\n",
       "mu[33]      166.02     0.4  10.08 146.01  159.9 166.27 172.52 185.46    635   1.01\n",
       "ypred       157.11     0.8  31.42  95.18 136.43 157.05  178.2 217.39   1559    1.0\n",
       "log_lik[0]   -4.35  6.5e-3   0.15   -4.7  -4.44  -4.34  -4.25  -4.09    545    1.0\n",
       "log_lik[1]   -5.28    0.02   0.45   -6.3  -5.55  -5.22  -4.95  -4.57    652   1.01\n",
       "log_lik[2]   -4.35  6.2e-3   0.15  -4.69  -4.43  -4.34  -4.25   -4.1    561    1.0\n",
       "log_lik[3]   -4.37  6.4e-3   0.15  -4.74  -4.46  -4.36  -4.26  -4.11    580    1.0\n",
       "log_lik[4]   -4.52  7.6e-3   0.19  -4.97  -4.63   -4.5  -4.37   -4.2    648   1.01\n",
       "log_lik[5]   -5.45    0.02   0.42  -6.38  -5.71  -5.41  -5.14  -4.75    739    1.0\n",
       "log_lik[6]   -4.42  6.0e-3   0.16  -4.75  -4.52   -4.4   -4.3  -4.15    694    1.0\n",
       "log_lik[7]   -4.81  8.4e-3   0.24  -5.34  -4.96  -4.79  -4.64  -4.41    805    1.0\n",
       "log_lik[8]   -6.63    0.02   0.66   -8.1  -7.06  -6.54  -6.16  -5.51    861    1.0\n",
       "log_lik[9]   -6.43    0.02    0.6  -7.76  -6.81  -6.35   -6.0  -5.43    897    1.0\n",
       "log_lik[10]   -4.4  5.1e-3   0.14   -4.7  -4.48  -4.39   -4.3  -4.15    723    1.0\n",
       "log_lik[11]  -5.18  7.9e-3   0.28  -5.79  -5.35  -5.14  -4.98  -4.73   1218    1.0\n",
       "log_lik[12]  -4.86  5.4e-3    0.2   -5.3  -4.98  -4.84  -4.72  -4.53   1372    1.0\n",
       "log_lik[13]  -4.42  4.6e-3   0.13  -4.71  -4.51  -4.42  -4.33  -4.19    823    1.0\n",
       "log_lik[14]  -4.31  5.2e-3   0.13   -4.6  -4.38  -4.31  -4.22  -4.08    623    1.0\n",
       "log_lik[15]  -4.88  4.6e-3   0.19  -5.29   -5.0  -4.87  -4.75  -4.55   1708    1.0\n",
       "log_lik[16]  -5.91    0.01   0.41  -6.85  -6.18  -5.87  -5.61  -5.24   1032    1.0\n",
       "log_lik[17]   -5.0  5.1e-3   0.21  -5.45  -5.12  -4.98  -4.84  -4.65   1718    1.0\n",
       "log_lik[18]  -4.55  3.9e-3   0.14  -4.84  -4.64  -4.54  -4.45  -4.29   1279    1.0\n",
       "log_lik[19]   -5.2  6.7e-3   0.26  -5.76  -5.35  -5.18  -5.01  -4.78   1479    1.0\n",
       "log_lik[20]  -4.31  5.2e-3   0.13   -4.6  -4.39   -4.3  -4.22  -4.08    619    1.0\n",
       "log_lik[21]  -4.31  5.3e-3   0.13   -4.6  -4.39  -4.31  -4.23  -4.08    615    1.0\n",
       "log_lik[22]   -4.7  5.3e-3   0.18  -5.11  -4.81  -4.69  -4.57  -4.39   1160    1.0\n",
       "log_lik[23]  -4.45  5.4e-3   0.15  -4.78  -4.54  -4.43  -4.34  -4.19    758    1.0\n",
       "log_lik[24]  -4.32  5.3e-3   0.13  -4.61   -4.4  -4.31  -4.23  -4.08    613    1.0\n",
       "log_lik[25]  -4.35  5.6e-3   0.14  -4.66  -4.44  -4.34  -4.26  -4.12    626    1.0\n",
       "log_lik[26]  -4.45  6.2e-3   0.16  -4.81  -4.55  -4.43  -4.34  -4.18    701    1.0\n",
       "log_lik[27]  -4.37  6.0e-3   0.15   -4.7  -4.46  -4.36  -4.27  -4.13    623    1.0\n",
       "log_lik[28]  -4.46  6.1e-3   0.17  -4.83  -4.56  -4.44  -4.34  -4.18    766    1.0\n",
       "log_lik[29]   -4.4  6.0e-3   0.16  -4.75  -4.49  -4.38  -4.29  -4.14    687    1.0\n",
       "log_lik[30]  -4.47  7.8e-3   0.19  -4.95  -4.58  -4.44  -4.34  -4.17    621   1.01\n",
       "log_lik[31]   -4.4  6.4e-3   0.16  -4.77   -4.5  -4.38  -4.28  -4.13    660    1.0\n",
       "log_lik[32]  -6.01    0.02   0.65  -7.46  -6.41  -5.95  -5.54  -4.94    755    1.0\n",
       "log_lik[33]  -4.35  6.7e-3   0.16  -4.69  -4.44  -4.34  -4.25   -4.1    539    1.0\n",
       "lp__        -128.0    0.06   1.29 -131.3 -128.5 -127.7 -127.1 -126.6    403   1.01\n",
       "\n",
       "Samples were drawn using NUTS at Wed Nov  1 20:58:06 2017.\n",
       "For each parameter, n_eff is a crude measure of effective sample size,\n",
       "and Rhat is the potential scale reduction factor on split chains (at \n",
       "convergence, Rhat=1)."
      ]
     },
     "execution_count": 10,
     "metadata": {},
     "output_type": "execute_result"
    }
   ],
   "source": [
    "fit = sm_drowning.sampling(data=data, iter=1000, chains=4); fit"
   ]
  },
  {
   "cell_type": "markdown",
   "metadata": {},
   "source": [
    "If you look at the inference for Stan model you can see that the number of people drown per year is decreasing in general."
   ]
  },
  {
   "cell_type": "code",
   "execution_count": 11,
   "metadata": {
    "collapsed": true
   },
   "outputs": [],
   "source": [
    "samples = fit.extract(permuted=True)"
   ]
  },
  {
   "cell_type": "markdown",
   "metadata": {},
   "source": [
    "### Histogram of the slope of the linear model"
   ]
  },
  {
   "cell_type": "code",
   "execution_count": 12,
   "metadata": {},
   "outputs": [
    {
     "data": {
      "text/plain": [
       "<matplotlib.text.Text at 0x11574c5c0>"
      ]
     },
     "execution_count": 12,
     "metadata": {},
     "output_type": "execute_result"
    },
    {
     "data": {
      "image/png": "[encoded data removed]",
      "text/plain": [
       "<matplotlib.figure.Figure at 0x114ed87b8>"
      ]
     },
     "metadata": {},
     "output_type": "display_data"
    }
   ],
   "source": [
    "# Warmups are already discarded\n",
    "plt.hist(samples['beta'], 50)\n",
    "plt.xlabel(\"Beta\")"
   ]
  },
  {
   "cell_type": "markdown",
   "metadata": {},
   "source": [
    "### 2). What does the model predict for year 2016? Plot the histogram of the posterior predictive distribution for number of people drown at x = 2016.\n",
    "\n",
    "\n",
    "For year 2016 the model predicts __156.95 people would die in average with standard error mean of 0.75__.\n"
   ]
  },
  {
   "cell_type": "code",
   "execution_count": 13,
   "metadata": {},
   "outputs": [
    {
     "data": {
      "text/plain": [
       "<matplotlib.text.Text at 0x10bce3ef0>"
      ]
     },
     "execution_count": 13,
     "metadata": {},
     "output_type": "execute_result"
    },
    {
     "data": {
      "image/png": "[encoded data removed]",
      "text/plain": [
       "<matplotlib.figure.Figure at 0x115967be0>"
      ]
     },
     "metadata": {},
     "output_type": "display_data"
    }
   ],
   "source": [
    "plt.hist(samples['ypred'], 50)\n",
    "plt.xlabel(\"Drowned\")"
   ]
  },
  {
   "cell_type": "markdown",
   "metadata": {},
   "source": [
    "# 2. Hierarchical model: factory data with Stan (3p)\n",
    "\n",
    "The provided factory.txt file contains quality control measurements from 6 machines in a factory (units of the measurements are irrelevant here). Quality control measurements are expensive and time-consuming, so only 5 measurements were done for each machine. In addition to the existing machines, we are interested in the quality of another machine (the seventh machine). \n",
    "\n",
    "Implement a \n",
    "- separate, \n",
    "- pooled and \n",
    "- hierarchical Gaussian model \n",
    "    \n",
    "described in Section 11.6 using Stan. \n",
    "\n",
    "Similarly as in the model description in the book, __use the same measurement standard deviation σ for all the groups in the hierarchical model__. In the separate model however, __use separate measurement standard deviation $\\sigma_j$ for each group j__. \n",
    "\n",
    "Using each of the three models – separate, pooled, and hierarchical – report (__plot histogram and comment on the results__):\n",
    "\n",
    "### Reference\n",
    "- http://twiecki.github.io/blog/2014/03/17/bayesian-glms-3/#The-Models"
   ]
  },
  {
   "cell_type": "markdown",
   "metadata": {},
   "source": [
    "## Questions\n",
    "- What is the random variable here?\n",
    "    - How do we predict without rv?\n",
    "    - What is predictive distribution?"
   ]
  },
  {
   "cell_type": "markdown",
   "metadata": {},
   "source": [
    "Load model"
   ]
  },
  {
   "cell_type": "code",
   "execution_count": 50,
   "metadata": {
    "collapsed": true
   },
   "outputs": [],
   "source": [
    "d = np.loadtxt(\"data/factory.txt\")"
   ]
  },
  {
   "cell_type": "markdown",
   "metadata": {},
   "source": [
    "## (2-1). Separate model with unequal standard deviations\n",
    "\n",
    "$$ y_{i,m} = \\alpha_m + \\beta_m \\times \\text{machine}_{i,m} + \\epsilon_m $$\n",
    "\n",
    "- $i$: measurement index\n",
    "- $m$: machine being measured\n",
    "\n",
    "$\\epsilon$ is an error term sampled from $N(\\mu, \\sigma_\\epsilon)$\n",
    "\n",
    "Here we say that all six machines are completely different with no similarities. Based on this model we won't be able to predict another machine."
   ]
  },
  {
   "cell_type": "code",
   "execution_count": 60,
   "metadata": {},
   "outputs": [
    {
     "data": {
      "text/plain": [
       "((30,), (30,))"
      ]
     },
     "execution_count": 60,
     "metadata": {},
     "output_type": "execute_result"
    }
   ],
   "source": [
    "x = np.tile(np.arange(1, 7), d.shape[0])\n",
    "y = d.ravel();y\n",
    "N = len(x)\n",
    "data = dict(\n",
    "    N = N,\n",
    "    K = 6,  # 6 machines\n",
    "    x = x,  # group indicators\n",
    "    y = y,   # observations\n",
    "    target_machine = 5  # 6th machine\n",
    ")\n",
    "\n",
    "x.shape, y.shape"
   ]
  },
  {
   "cell_type": "code",
   "execution_count": 52,
   "metadata": {
    "collapsed": true
   },
   "outputs": [],
   "source": [
    "#  Comparison of k groups with common variance (ANOVA)\n",
    "data_code = '''\n",
    "data {\n",
    "  int<lower=0> N; // number of data points\n",
    "  int<lower=0> K; // number of groups\n",
    "  int<lower=1,upper=K> x[N]; // group indicator\n",
    "  vector[N] y; //\n",
    "  int<lower=0> target_machine;\n",
    "}\n",
    "parameters {\n",
    "  vector[K] mu;        // group means\n",
    "  vector<lower=0>[K] sigma; // group stds\n",
    "  //real<lower=0> sigma; // common std\n",
    "}\n",
    "model {\n",
    "  //for (i in 1:N)\n",
    "  //  y[i] ~ normal(mu[x[i]], sigma[x[i]]);\n",
    "    y ~ normal(mu[x], sigma[x]);\n",
    "}\n",
    "\n",
    "generated quantities {\n",
    "  real ypred;\n",
    "  vector[N] log_lik;\n",
    "  ypred = normal_rng(mu[target_machine], sigma[target_machine]);\n",
    "  for (i in 1:N)\n",
    "    log_lik[i] = normal_lpdf(y[i] | mu[x[i]], sigma);\n",
    "}\n",
    "'''"
   ]
  },
  {
   "cell_type": "code",
   "execution_count": 53,
   "metadata": {},
   "outputs": [
    {
     "name": "stderr",
     "output_type": "stream",
     "text": [
      "INFO:pystan:COMPILING THE C++ CODE FOR MODEL anon_model_90809f19c30be940fe67ea685b89ec73 NOW.\n"
     ]
    },
    {
     "name": "stdout",
     "output_type": "stream",
     "text": [
      "Path doesn't exist. Compiling model. It might take few minutes...\n"
     ]
    }
   ],
   "source": [
    "# sm_separate = get_stan_model('factory_model.pkl', data_code, get_new=True)\n",
    "sm_separate = get_stan_model('factory_model.pkl', data_code)"
   ]
  },
  {
   "cell_type": "code",
   "execution_count": 54,
   "metadata": {},
   "outputs": [
    {
     "data": {
      "text/plain": [
       "Inference for Stan model: anon_model_90809f19c30be940fe67ea685b89ec73.\n",
       "4 chains, each with iter=2000; warmup=1000; thin=1; \n",
       "post-warmup draws per chain=1000, total post-warmup draws=4000.\n",
       "\n",
       "              mean se_mean     sd   2.5%    25%    50%    75%  97.5%  n_eff   Rhat\n",
       "mu[0]        76.46    0.45  15.63  46.03  68.36  76.12  84.05 106.05   1228    1.0\n",
       "mu[1]       106.36    0.38   10.5  87.58 101.42 106.04 110.82  125.6    754   1.01\n",
       "mu[2]        87.67    0.24  10.07  66.71  82.69  87.56   92.8 108.19   1788    1.0\n",
       "mu[3]       111.61    0.22   6.31  99.63 108.69 111.61 114.61 123.63    811    1.0\n",
       "mu[4]        90.08    0.19   8.29  72.67  85.96  90.14  94.22 106.56   1912    1.0\n",
       "mu[5]        85.63    0.56  17.72  53.34   78.3  85.52  92.74 118.63    989    1.0\n",
       "sigma[0]     30.35    0.65  19.73  13.16  19.56  25.13  34.76  75.44    926    1.0\n",
       "sigma[1]     18.79    0.45  12.69   7.73   11.6   15.4  21.37  52.34    796    1.0\n",
       "sigma[2]     20.15    0.34  12.61    8.4  12.77  16.61  23.33  54.97   1354    1.0\n",
       "sigma[3]     11.96    0.28   8.31   4.77   7.42   9.71  13.72  32.53    876    1.0\n",
       "sigma[4]     17.02    0.42  12.17   6.96  10.62  14.02  19.55  45.15    855    1.0\n",
       "sigma[5]     30.28    0.79  24.39  12.86  18.73  24.48  33.38   84.8    962    1.0\n",
       "ypred        89.89    0.38  22.68  46.79   79.6  89.91 100.24 132.37   3627    1.0\n",
       "log_lik[0]  -27.58    0.62  15.93 -49.73 -27.51 -24.57 -23.14 -21.42    665   1.01\n",
       "log_lik[1]  -26.47    0.35   8.54 -39.06 -26.94 -24.98 -23.68 -21.86    585    1.0\n",
       "log_lik[2]  -27.32    0.15   6.15 -42.09 -28.35 -25.78 -24.15  -22.1   1763    1.0\n",
       "log_lik[3]  -24.01    0.07   1.94  -28.1 -24.74 -23.73 -22.86 -21.44    775   1.01\n",
       "log_lik[4]  -25.89    0.12   4.55  -35.5 -26.72 -24.99  -23.7 -21.93   1510    1.0\n",
       "log_lik[5]  -41.99    1.66  47.01 -92.16 -44.46 -35.59 -29.76 -23.44    806    1.0\n",
       "log_lik[6]  -30.99    0.55  16.36 -61.49 -32.13 -27.06 -24.41 -22.08    896    1.0\n",
       "log_lik[7]  -24.68    0.42   8.85 -34.19 -24.74 -23.51 -22.53 -21.14    452   1.01\n",
       "log_lik[8]  -24.82    0.13   4.68  -35.1 -25.28  -23.8 -22.77 -21.24   1249    1.0\n",
       "log_lik[9]  -24.21    0.09   2.25 -28.63 -24.95 -23.92 -23.02  -21.6    642   1.01\n",
       "log_lik[10] -24.69    0.09    3.6 -33.05 -25.28 -23.94 -22.95 -21.43   1435    1.0\n",
       "log_lik[11] -28.68    1.27  33.98  -52.1 -26.91 -24.41 -23.08 -21.38    713    1.0\n",
       "log_lik[12] -30.99    0.55  16.36 -61.49 -32.13 -27.06 -24.41 -22.08    896    1.0\n",
       "log_lik[13] -25.54    0.37   8.53 -36.34 -25.82  -24.2 -23.07  -21.5    518    1.0\n",
       "log_lik[14] -24.66    0.13   4.59  -34.7  -25.1 -23.72 -22.68 -21.17   1204    1.0\n",
       "log_lik[15] -23.61    0.08   2.04 -27.69 -24.31 -23.34  -22.5 -21.22    602   1.01\n",
       "log_lik[16] -26.72    0.11   4.71  -38.8  -27.7 -25.63 -24.25 -22.21   1767    1.0\n",
       "log_lik[17] -33.66     1.2  32.29 -69.55 -33.95 -28.47 -25.23 -22.34    728   1.01\n",
       "log_lik[18] -42.38    1.08  28.35 -88.35 -47.11  -36.9 -30.26 -23.52    688    1.0\n",
       "log_lik[19] -24.67    0.46   9.53 -34.74 -24.65 -23.45 -22.52 -21.01    422   1.01\n",
       "log_lik[20]  -24.4    0.13   4.52 -33.52 -24.86 -23.54 -22.54 -21.09   1209    1.0\n",
       "log_lik[21] -24.83    0.07   2.13 -29.42 -25.71 -24.53 -23.53 -21.94    969   1.01\n",
       "log_lik[22] -25.89    0.12   4.55  -35.5 -26.72 -24.99  -23.7 -21.93   1510    1.0\n",
       "log_lik[23] -29.31    1.41   38.3 -57.82 -27.58 -24.78 -23.26 -21.44    735    1.0\n",
       "log_lik[24] -28.29    0.81  19.18 -50.28 -28.17 -24.93 -23.39 -21.57    564   1.01\n",
       "log_lik[25] -30.95    0.65  13.78 -51.31 -32.28  -28.7  -26.1 -23.14    451   1.01\n",
       "log_lik[26] -31.63     0.2   8.92 -52.92 -33.86 -29.57 -26.72 -23.24   1896    1.0\n",
       "log_lik[27] -23.61    0.08   2.04 -27.69 -24.31 -23.34  -22.5 -21.22    602   1.01\n",
       "log_lik[28] -23.92    0.09    3.2 -30.28 -24.48 -23.37 -22.44 -21.03   1223    1.0\n",
       "log_lik[29] -31.46    1.22  32.64  -63.6 -30.93 -26.56 -24.22 -21.96    718   1.01\n",
       "lp__        -81.12    0.11   3.11 -88.37 -82.86  -80.7 -78.85 -76.21    790   1.01\n",
       "\n",
       "Samples were drawn using NUTS at Wed Nov  1 22:35:13 2017.\n",
       "For each parameter, n_eff is a crude measure of effective sample size,\n",
       "and Rhat is the potential scale reduction factor on split chains (at \n",
       "convergence, Rhat=1)."
      ]
     },
     "execution_count": 54,
     "metadata": {},
     "output_type": "execute_result"
    }
   ],
   "source": [
    "fit_separate = sm_separate.sampling(data=data, seed=194838);fit_separate"
   ]
  },
  {
   "cell_type": "code",
   "execution_count": 55,
   "metadata": {},
   "outputs": [
    {
     "name": "stdout",
     "output_type": "stream",
     "text": [
      "0 of 4000 iterations saturated the maximum tree depth of 10 (0.0%)\n",
      "0.0 of 4000 iterations ended with a divergence (0.0%)\n"
     ]
    }
   ],
   "source": [
    "# Extract samples in different forms for different parameters.\n",
    "# permuted : bool\n",
    "#    If True, returned samples are permuted. All chains are\n",
    "#    merged and warmup samples are discarded.\n",
    "samples_separate = fit_separate.extract(permuted=True)\n",
    "\n",
    "stan_utility.check_treedepth(fit_separate)\n",
    "stan_utility.check_energy(fit_separate)\n",
    "stan_utility.check_div(fit_separate)"
   ]
  },
  {
   "cell_type": "markdown",
   "metadata": {},
   "source": [
    "`mu` is group mean. So get a column not row."
   ]
  },
  {
   "cell_type": "code",
   "execution_count": 56,
   "metadata": {},
   "outputs": [
    {
     "data": {
      "text/plain": [
       "<matplotlib.text.Text at 0x11a6ca400>"
      ]
     },
     "execution_count": 56,
     "metadata": {},
     "output_type": "execute_result"
    },
    {
     "data": {
      "image/png": "[encoded data removed]",
      "text/plain": [
       "<matplotlib.figure.Figure at 0x11a6e0358>"
      ]
     },
     "metadata": {},
     "output_type": "display_data"
    }
   ],
   "source": [
    "plt.hist(samples_separate['mu'][:,5], 50)\n",
    "plt.xlabel(\"the posterior distribution of the mean of the quality measurements of the sixth machine \")"
   ]
  },
  {
   "cell_type": "code",
   "execution_count": 84,
   "metadata": {},
   "outputs": [
    {
     "data": {
      "image/png": "[encoded data removed]",
      "text/plain": [
       "<matplotlib.figure.Figure at 0x113e95550>"
      ]
     },
     "metadata": {},
     "output_type": "display_data"
    }
   ],
   "source": [
    "# create figure\n",
    "fig, axes = plt.subplots(1, 3, figsize=(16, 5), sharex=True)\n",
    "\n",
    "# plot the posterior density\n",
    "ax = axes[0]\n",
    "ax.set_xlim([-100,200])\n",
    "ax.hist(samples_separate['mu'][:,5], 50)\n",
    "ax.set_title('Posterior distribution of the\\n sixth mahine for separate modeling')\n",
    "\n",
    "ax = axes[1]\n",
    "ax.hist(samples_separate['ypred'], 50)\n",
    "ax.set_title(\"Predictive distribution of the\\n sixth mahine for separate modeling\")\n",
    "\n",
    "ax = axes[2]\n",
    "ax.set_title(\"Seventh machine posterior distribution\\n doesn't exist for separate modeling.\")\n",
    "\n",
    "\n",
    "fig.tight_layout()"
   ]
  },
  {
   "cell_type": "markdown",
   "metadata": {},
   "source": [
    "Posterior and predictive distributions look similar. For separate modeling, the seventh machine's posterior distribution doesn't exist, because separate modeling cannot infer a new machine as all six machines were supposed as completely different machies."
   ]
  },
  {
   "cell_type": "markdown",
   "metadata": {},
   "source": [
    "## (2-2). Pooled model\n",
    "\n",
    "$$ y_{i,m} = \\alpha + \\beta \\times \\text{machine}_{i,m} + \\epsilon_m $$\n",
    "\n",
    "- $i$: measurement index\n",
    "- $m$: machine being measured\n",
    "\n",
    "$\\epsilon$ is an error term sampled from $N(\\mu, \\sigma_\\epsilon)$\n",
    "\n",
    "So here we are aggregating all the machines into a single machines as they are __exactly__ the same."
   ]
  },
  {
   "cell_type": "code",
   "execution_count": 29,
   "metadata": {
    "collapsed": true
   },
   "outputs": [],
   "source": [
    "# Gaussian linear model with uniform priors\n",
    "pooling_code = \"\"\"\n",
    "data {\n",
    "  int<lower=0> N; // number of data points\n",
    "  vector[N] y; //\n",
    "}\n",
    "parameters {\n",
    "  real mu;        // group means\n",
    "  real<lower=0> sigma; // common std\n",
    "}\n",
    "model {\n",
    "  y ~ normal(mu, sigma);\n",
    "}\n",
    "generated quantities {\n",
    "  real ypred;\n",
    "  vector[N] log_lik;\n",
    "  ypred = normal_rng(mu, sigma);\n",
    "  for (i in 1:N)\n",
    "    log_lik[i] = normal_lpdf(y[i] | mu, sigma);\n",
    "}\n",
    "\"\"\""
   ]
  },
  {
   "cell_type": "code",
   "execution_count": 30,
   "metadata": {},
   "outputs": [
    {
     "name": "stderr",
     "output_type": "stream",
     "text": [
      "INFO:pystan:COMPILING THE C++ CODE FOR MODEL anon_model_e37fd519a1160a9347f6f67db924f61d NOW.\n"
     ]
    },
    {
     "name": "stdout",
     "output_type": "stream",
     "text": [
      "Path doesn't exist. Compiling model. It might take few minutes...\n"
     ]
    }
   ],
   "source": [
    "sm_pooled = get_stan_model(\"factory_pooling_posterior\", pooling_code, get_new=True)\n",
    "# sm = get_stan_model(\"factory_pooling_posterior\", pooling_code)"
   ]
  },
  {
   "cell_type": "markdown",
   "metadata": {},
   "source": [
    "Pool all the observations. I don't know how to not to use vectors so treat this as observations of 1 machine"
   ]
  },
  {
   "cell_type": "code",
   "execution_count": 31,
   "metadata": {
    "collapsed": true
   },
   "outputs": [],
   "source": [
    "x = np.full(1, 1)\n",
    "y = d.ravel();y\n",
    "N = len(y)\n",
    "data = dict(\n",
    "    N = N,\n",
    "    y = y   # observations\n",
    ")"
   ]
  },
  {
   "cell_type": "code",
   "execution_count": 32,
   "metadata": {},
   "outputs": [
    {
     "data": {
      "text/plain": [
       "Inference for Stan model: anon_model_e37fd519a1160a9347f6f67db924f61d.\n",
       "4 chains, each with iter=2000; warmup=1000; thin=1; \n",
       "post-warmup draws per chain=1000, total post-warmup draws=4000.\n",
       "\n",
       "              mean se_mean     sd   2.5%    25%    50%    75%  97.5%  n_eff   Rhat\n",
       "mu            92.9    0.07   3.54  86.01  90.54  92.91  95.23  99.98   2709    1.0\n",
       "sigma         18.8    0.05   2.58  14.56  16.98  18.53  20.35  24.46   2684    1.0\n",
       "ypred        93.36    0.31  19.33   55.9  80.32   93.3 105.94  131.5   4000    1.0\n",
       "log_lik[0]   -4.01  2.7e-3   0.14   -4.3   -4.1   -4.0  -3.91  -3.75   2655    1.0\n",
       "log_lik[1]   -4.73  4.9e-3   0.27  -5.34  -4.89   -4.7  -4.54  -4.29   2948    1.0\n",
       "log_lik[2]   -3.96  2.8e-3   0.14  -4.26  -4.05  -3.95  -3.86  -3.71   2476    1.0\n",
       "log_lik[3]   -4.08  2.9e-3   0.15  -4.39  -4.18  -4.07  -3.97  -3.82   2570    1.0\n",
       "log_lik[4]   -4.15  3.0e-3   0.16  -4.48  -4.25  -4.14  -4.04  -3.86   2757    1.0\n",
       "log_lik[5]   -5.79  9.8e-3   0.53  -6.93   -6.1  -5.73   -5.4  -4.92   2875    1.0\n",
       "log_lik[6]   -3.86  2.7e-3   0.14  -4.14  -3.95  -3.86  -3.77  -3.61   2491    1.0\n",
       "log_lik[7]   -4.25  3.3e-3   0.17  -4.61  -4.35  -4.23  -4.13  -3.95   2727    1.0\n",
       "log_lik[8]   -3.86  2.7e-3   0.14  -4.14  -3.95  -3.86  -3.77  -3.61   2481    1.0\n",
       "log_lik[9]   -4.88  5.6e-3    0.3  -5.57  -5.06  -4.84  -4.66  -4.38   2964    1.0\n",
       "log_lik[10]  -3.89  2.8e-3   0.14  -4.18  -3.97  -3.88  -3.79  -3.63   2456    1.0\n",
       "log_lik[11]  -3.86  2.7e-3   0.14  -4.14  -3.95  -3.86  -3.77  -3.61   2491    1.0\n",
       "log_lik[12]  -3.86  2.7e-3   0.14  -4.14  -3.95  -3.86  -3.77  -3.61   2491    1.0\n",
       "log_lik[13]  -4.53  4.1e-3   0.22  -5.03  -4.66   -4.5  -4.37  -4.15   2904    1.0\n",
       "log_lik[14]  -3.86  2.7e-3   0.14  -4.14  -3.95  -3.86  -3.77  -3.61   2491    1.0\n",
       "log_lik[15]  -4.66  4.7e-3   0.25  -5.23  -4.81  -4.63  -4.48  -4.24   2937    1.0\n",
       "log_lik[16]  -4.01  2.8e-3   0.14  -4.31  -4.11  -4.01  -3.91  -3.76   2513    1.0\n",
       "log_lik[17]  -4.04  2.9e-3   0.15  -4.35  -4.14  -4.04  -3.94  -3.79   2539    1.0\n",
       "log_lik[18]  -7.15    0.02   0.88  -9.08  -7.69  -7.07  -6.51  -5.65   2867    1.0\n",
       "log_lik[19]  -4.04  2.9e-3   0.15  -4.35  -4.14  -4.04  -3.94  -3.79   2539    1.0\n",
       "log_lik[20]  -3.93  2.7e-3   0.14  -4.21  -4.02  -3.93  -3.84  -3.67   2582    1.0\n",
       "log_lik[21]  -3.98  2.8e-3   0.14  -4.29  -4.08  -3.98  -3.89  -3.73   2492    1.0\n",
       "log_lik[22]  -4.15  3.0e-3   0.16  -4.48  -4.25  -4.14  -4.04  -3.86   2757    1.0\n",
       "log_lik[23]  -4.24  3.2e-3   0.17  -4.61  -4.34  -4.23  -4.12  -3.94   2801    1.0\n",
       "log_lik[24]  -4.86  5.6e-3    0.3  -5.53  -5.04  -4.83  -4.65  -4.39   2883    1.0\n",
       "log_lik[25]  -3.91  2.7e-3   0.14  -4.19  -4.01  -3.91  -3.82  -3.66   2563    1.0\n",
       "log_lik[26]  -4.86  5.6e-3    0.3  -5.53  -5.04  -4.83  -4.65  -4.39   2883    1.0\n",
       "log_lik[27]  -4.66  4.7e-3   0.25  -5.23  -4.81  -4.63  -4.48  -4.24   2937    1.0\n",
       "log_lik[28]  -3.86  2.7e-3   0.14  -4.14  -3.95  -3.86  -3.77  -3.61   2491    1.0\n",
       "log_lik[29]  -3.94  2.8e-3   0.14  -4.23  -4.03  -3.93  -3.84  -3.68   2465    1.0\n",
       "lp__        -99.37    0.03   1.04 -102.0 -99.77 -99.08 -98.63 -98.35   1370    1.0\n",
       "\n",
       "Samples were drawn using NUTS at Wed Nov  1 22:26:18 2017.\n",
       "For each parameter, n_eff is a crude measure of effective sample size,\n",
       "and Rhat is the potential scale reduction factor on split chains (at \n",
       "convergence, Rhat=1)."
      ]
     },
     "execution_count": 32,
     "metadata": {},
     "output_type": "execute_result"
    }
   ],
   "source": [
    "fit_pooled = sm_pooled.sampling(data=data, seed=194838);fit_pooled"
   ]
  },
  {
   "cell_type": "code",
   "execution_count": 34,
   "metadata": {},
   "outputs": [],
   "source": [
    "samples_pooled = fit_pooled.extract(permuted=True)"
   ]
  },
  {
   "cell_type": "code",
   "execution_count": 48,
   "metadata": {},
   "outputs": [
    {
     "data": {
      "text/plain": [
       "<matplotlib.text.Text at 0x114c5fc18>"
      ]
     },
     "execution_count": 48,
     "metadata": {},
     "output_type": "execute_result"
    },
    {
     "data": {
      "image/png": "[encoded data removed]",
      "text/plain": [
       "<matplotlib.figure.Figure at 0x1198da6d8>"
      ]
     },
     "metadata": {},
     "output_type": "display_data"
    }
   ],
   "source": [
    "plt.hist(samples_pooled['mu'], 50)\n",
    "plt.xlabel(\"Posterior distribution of the\\n sixth mahine for pooled modeling\")"
   ]
  },
  {
   "cell_type": "code",
   "execution_count": 87,
   "metadata": {},
   "outputs": [
    {
     "data": {
      "image/png": "[encoded data removed]",
      "text/plain": [
       "<matplotlib.figure.Figure at 0x1190556a0>"
      ]
     },
     "metadata": {},
     "output_type": "display_data"
    }
   ],
   "source": [
    "# create figure\n",
    "fig, axes = plt.subplots(1, 3, figsize=(16, 5), sharex=True)\n",
    "\n",
    "# plot the posterior density\n",
    "ax = axes[0]\n",
    "ax.hist(samples_pooled['mu'], 50)\n",
    "ax.set_title('Posterior distribution of the\\n sixth mahine for pooled modeling')\n",
    "\n",
    "ax = axes[1]\n",
    "ax.hist(samples_pooled['ypred'], 50)\n",
    "ax.set_title(\"Predictive distribution of the\\n sixth mahine for pooled modeling\")\n",
    "\n",
    "ax = axes[2]\n",
    "ax.hist(samples_pooled['mu'], 50)\n",
    "ax.set_title(\"Posterior distribution of the\\n seventh mahine for pooled modeling\")\n",
    "\n",
    "\n",
    "fig.tight_layout()"
   ]
  },
  {
   "cell_type": "markdown",
   "metadata": {},
   "source": [
    "The posterior distribution of the seventh mahine for pooled modeling is the same as any machine because they are __identical__ machines."
   ]
  },
  {
   "cell_type": "markdown",
   "metadata": {},
   "source": [
    "### (2-3) hierarchical model\n",
    "\n",
    "Hierarchical modeling is a statistically rigorous way to make scientific inferences about a population based on many groups/observations. Humanly speaking, it's a middle ground between pooling and separate modeling. We will have the same formula as separate:\n",
    "\n",
    "$$ y_{i,m} = \\alpha_m + \\beta_m \\times \\text{machine}_{i,m} + \\epsilon_m $$\n",
    "\n",
    "But $\\alpha$ and $\\beta$ come from a common group distribution:\n",
    "\n",
    "$$\\alpha_{c} \\sim \\mathcal{N}(\\mu_{\\alpha}, \\sigma_{\\alpha}^2)$$\n",
    "$$\\beta_{c} \\sim \\mathcal{N}(\\mu_{\\beta}, \\sigma_{\\beta}^2)$$\n",
    "\n",
    "So we model coefficients and predictions. That's why it's called hierarchical/multilevel modeling."
   ]
  },
  {
   "cell_type": "code",
   "execution_count": 76,
   "metadata": {
    "collapsed": true
   },
   "outputs": [],
   "source": [
    "x = np.tile(np.arange(1, 7), d.shape[0])\n",
    "y = d.ravel();y\n",
    "N = len(x)\n",
    "data = dict(\n",
    "    N = N,\n",
    "    K = 7,  # 6 machines\n",
    "    x = x,  # group indicators\n",
    "    y = y,   # observations\n",
    "    target_machine = 5  # 6th machine\n",
    ")"
   ]
  },
  {
   "cell_type": "markdown",
   "metadata": {},
   "source": [
    "Our linear model:\n",
    "$$ y = \\beta_0 + \\beta_1 \\times x + e $$\n",
    "\n",
    "$e$ is an error term sampled from $N(\\mu, \\sigma)$\n",
    "\n",
    "Priors for each machine is not fixed, but rather depend on other latent variables."
   ]
  },
  {
   "cell_type": "code",
   "execution_count": 80,
   "metadata": {
    "collapsed": true
   },
   "outputs": [],
   "source": [
    "#  Comparison of k groups with common variance and\n",
    "#  hierarchical prior for the mean\n",
    "\n",
    "data_code = '''\n",
    "data {\n",
    "    int<lower=0> N; // number of data points\n",
    "    int<lower=0> K; // number of groups\n",
    "    int<lower=1,upper=K> x[N]; // group indicator\n",
    "    vector[N] y; //\n",
    "    int<lower=0> target_machine;\n",
    "}\n",
    "parameters {\n",
    "    real<lower=70, upper=110> mu0; // uniform prior mean\n",
    "    real<lower=0, upper=20> sigma0; // uniform prior std\n",
    "    vector[K] mu;         // group means\n",
    "    real<lower=0> sigma;  // common std\n",
    "    real mu7;\n",
    "}\n",
    "model {\n",
    "  //mu0 ~ normal(10,10);      // weakly informative prior\n",
    "  //sigma0 ~ cauchy(0,4);     // weakly informative prior\n",
    "  mu ~ normal(mu0, sigma0); // population prior with unknown parameters\n",
    "  //sigma ~ cauchy(0,4);      // weakly informative prior\n",
    "  y ~ normal(mu[x], sigma);\n",
    "  //for (i in 1:N)\n",
    "  mu7 ~ normal(mu, sigma);  // Is this correct? Idk. mu7 ~ normal(mu0, sigma0) gave me low mean around 19.\n",
    "}\n",
    "generated quantities {\n",
    "  real ypred;\n",
    "  \n",
    "  vector[N] log_lik;\n",
    "  ypred = normal_rng(mu[target_machine], sigma);\n",
    "  for (i in 1:N)\n",
    "    log_lik[i] = normal_lpdf(y[i] | mu[x[i]], sigma);\n",
    "}\n",
    "'''"
   ]
  },
  {
   "cell_type": "code",
   "execution_count": 81,
   "metadata": {},
   "outputs": [
    {
     "name": "stderr",
     "output_type": "stream",
     "text": [
      "INFO:pystan:COMPILING THE C++ CODE FOR MODEL anon_model_f6cc47a9f4a59f2b3cc1fb7670696e97 NOW.\n"
     ]
    }
   ],
   "source": [
    "sm_hierarchical =  pystan.StanModel(model_code=data_code)"
   ]
  },
  {
   "cell_type": "code",
   "execution_count": 75,
   "metadata": {},
   "outputs": [
    {
     "data": {
      "text/plain": [
       "Inference for Stan model: anon_model_f6cc47a9f4a59f2b3cc1fb7670696e97.\n",
       "4 chains, each with iter=2000; warmup=1000; thin=1; \n",
       "post-warmup draws per chain=1000, total post-warmup draws=4000.\n",
       "\n",
       "              mean se_mean     sd   2.5%    25%    50%    75%  97.5%  n_eff   Rhat\n",
       "mu0           93.0    0.11   5.31  82.07  89.65   93.0  96.36 103.61   2324    1.0\n",
       "sigma0       10.95    0.13   4.22    3.0   7.87   10.6  14.04  19.08   1023    1.0\n",
       "mu[0]         82.9    0.13   6.02   71.3  78.72   82.9   86.9   94.6   2012    1.0\n",
       "mu[1]       100.76    0.12   5.69  89.35  97.08 100.84  104.6 111.86   2090    1.0\n",
       "mu[2]        89.87    0.11   5.34  79.43  86.24  89.83  93.55 100.26   2340    1.0\n",
       "mu[3]       103.88    0.14   6.14  91.82  99.76 104.09 108.05 115.61   1916    1.0\n",
       "mu[4]        91.26    0.09   5.33  80.76  87.74   91.5  94.67 101.89   3254    1.0\n",
       "mu[5]        88.89    0.11   5.36  78.06   85.5  88.93  92.46  99.34   2580    1.0\n",
       "sigma        14.75    0.05   2.09  11.39  13.28  14.51  15.94  19.45   1929    1.0\n",
       "mu7          92.89    0.13   6.52   80.1  88.47  92.98  97.25 105.73   2420    1.0\n",
       "ypred        91.58    0.26   16.0  60.78  80.97  91.63 101.68 123.85   3692    1.0\n",
       "log_lik[0]   -3.68  5.0e-3   0.18  -4.09  -3.78  -3.66  -3.56   -3.4   1285   1.01\n",
       "log_lik[1]    -4.3  8.6e-3   0.43  -5.27  -4.55  -4.24  -3.98  -3.64   2485    1.0\n",
       "log_lik[2]   -3.97  5.8e-3   0.31  -4.74  -4.13  -3.92  -3.75  -3.53   2790    1.0\n",
       "log_lik[3]   -3.69  5.1e-3   0.18   -4.1   -3.8  -3.67  -3.56  -3.39   1304    1.0\n",
       "log_lik[4]   -4.03  5.5e-3   0.33  -4.81  -4.19  -3.98   -3.8  -3.52   3480    1.0\n",
       "log_lik[5]   -6.12    0.02   0.94  -8.27  -6.69  -6.02  -5.44  -4.61   3461    1.0\n",
       "log_lik[6]    -3.9  6.4e-3    0.3  -4.67  -4.04  -3.83  -3.69  -3.49   2274    1.0\n",
       "log_lik[7]   -3.83  5.9e-3   0.26  -4.46  -3.98  -3.79  -3.64  -3.44   1938    1.0\n",
       "log_lik[8]   -3.69  3.9e-3   0.17  -4.08  -3.79  -3.67  -3.57   -3.4   1933    1.0\n",
       "log_lik[9]   -4.22  9.8e-3   0.44  -5.28  -4.48  -4.14  -3.89  -3.59   2021    1.0\n",
       "log_lik[10]  -3.75  4.1e-3   0.21  -4.23  -3.85  -3.72  -3.61  -3.42   2595    1.0\n",
       "log_lik[11]  -3.69  4.2e-3   0.18   -4.1   -3.8  -3.67  -3.57   -3.4   1851    1.0\n",
       "log_lik[12]   -3.9  6.4e-3    0.3  -4.67  -4.04  -3.83  -3.69  -3.49   2274    1.0\n",
       "log_lik[13]  -4.09  7.5e-3   0.36  -4.93  -4.28  -4.03  -3.82  -3.55   2294    1.0\n",
       "log_lik[14]  -3.68  4.2e-3   0.17  -4.05  -3.78  -3.67  -3.56  -3.39   1532    1.0\n",
       "log_lik[15]  -4.03  8.7e-3   0.37  -4.92  -4.23  -3.96  -3.76   -3.5   1808    1.0\n",
       "log_lik[16]  -4.01  5.7e-3   0.33  -4.82  -4.17  -3.94  -3.79  -3.54   3344    1.0\n",
       "log_lik[17]  -4.23  7.3e-3   0.41  -5.22  -4.44  -4.15  -3.94  -3.65   3165    1.0\n",
       "log_lik[18]  -6.95    0.02   1.19  -9.68  -7.66  -6.83  -6.08  -5.03   4000    1.0\n",
       "log_lik[19]   -3.7  4.7e-3   0.19  -4.14  -3.81  -3.67  -3.56  -3.38   1676    1.0\n",
       "log_lik[20]   -3.7  4.1e-3   0.19  -4.12  -3.81  -3.68  -3.57  -3.39   2005    1.0\n",
       "log_lik[21]   -3.7  4.4e-3   0.18   -4.1  -3.81  -3.68  -3.57  -3.39   1697    1.0\n",
       "log_lik[22]  -4.03  5.5e-3   0.33  -4.81  -4.19  -3.98   -3.8  -3.52   3480    1.0\n",
       "log_lik[23]   -4.0  5.9e-3   0.32  -4.77  -4.18  -3.96  -3.78  -3.52   2891    1.0\n",
       "log_lik[24]  -4.28  9.7e-3   0.45  -5.33  -4.54  -4.21  -3.94   -3.6   2181    1.0\n",
       "log_lik[25]  -4.15  7.6e-3    0.4  -5.12  -4.36  -4.07  -3.87  -3.62   2766    1.0\n",
       "log_lik[26]  -4.93    0.01   0.62  -6.38  -5.28  -4.84  -4.48  -3.98   2790    1.0\n",
       "log_lik[27]  -4.03  8.7e-3   0.37  -4.92  -4.23  -3.96  -3.76   -3.5   1808    1.0\n",
       "log_lik[28]  -3.67  3.7e-3   0.16  -4.02  -3.77  -3.65  -3.56  -3.38   2023    1.0\n",
       "log_lik[29]  -3.97  5.4e-3   0.31  -4.74  -4.12  -3.92  -3.76  -3.54   3240    1.0\n",
       "lp__        -124.3    0.08   2.74 -130.6 -125.8 -123.9 -122.3 -120.0   1071    1.0\n",
       "\n",
       "Samples were drawn using NUTS at Wed Nov  1 23:31:09 2017.\n",
       "For each parameter, n_eff is a crude measure of effective sample size,\n",
       "and Rhat is the potential scale reduction factor on split chains (at \n",
       "convergence, Rhat=1)."
      ]
     },
     "execution_count": 75,
     "metadata": {},
     "output_type": "execute_result"
    }
   ],
   "source": [
    "fit_hierarchical = sm_hierarchical.sampling(data=data, seed=194838);fit_hierarchical"
   ]
  },
  {
   "cell_type": "code",
   "execution_count": 70,
   "metadata": {},
   "outputs": [
    {
     "name": "stdout",
     "output_type": "stream",
     "text": [
      "0 of 4000 iterations saturated the maximum tree depth of 10 (0.0%)\n",
      "36.0 of 4000 iterations ended with a divergence (0.9%)\n",
      "Try running with larger adapt_delta to remove the divergences\n"
     ]
    }
   ],
   "source": [
    "# Extract samples in different forms for different parameters.\n",
    "# permuted : bool\n",
    "#    If True, returned samples are permuted. All chains are\n",
    "#    merged and warmup samples are discarded.\n",
    "samples = fit_hierarchical.extract(permuted=True)\n",
    "\n",
    "stan_utility.check_treedepth(fit_hierarchical)\n",
    "stan_utility.check_energy(fit_hierarchical)\n",
    "stan_utility.check_div(fit_hierarchical)"
   ]
  },
  {
   "cell_type": "markdown",
   "metadata": {},
   "source": [
    "`mu` is group mean. So get a column not row."
   ]
  },
  {
   "cell_type": "code",
   "execution_count": 71,
   "metadata": {},
   "outputs": [
    {
     "data": {
      "text/plain": [
       "((4000,), (4000,), (4000,))"
      ]
     },
     "execution_count": 71,
     "metadata": {},
     "output_type": "execute_result"
    }
   ],
   "source": [
    "samples['mu'][:,5].shape,samples['ypred'].shape,samples['mu7'].shape"
   ]
  },
  {
   "cell_type": "code",
   "execution_count": 85,
   "metadata": {},
   "outputs": [
    {
     "data": {
      "image/png": "[encoded data removed]",
      "text/plain": [
       "<matplotlib.figure.Figure at 0x11c329630>"
      ]
     },
     "metadata": {},
     "output_type": "display_data"
    }
   ],
   "source": [
    "# create figure\n",
    "fig, axes = plt.subplots(1, 3, figsize=(16, 5), sharex=True)\n",
    "\n",
    "# plot the posterior density\n",
    "ax = axes[0]\n",
    "ax.hist(samples['mu'][:,5], 50)\n",
    "ax.set_title('Posterior distribution of the\\n sixth mahine for hierarchical modeling')\n",
    "\n",
    "ax = axes[1]\n",
    "ax.hist(samples['ypred'], 50)\n",
    "ax.set_title(\"Predictive distribution of the\\n sixth mahine for hierarchical modeling\")\n",
    "\n",
    "ax = axes[2]\n",
    "ax.hist(samples['mu7'], 50)\n",
    "ax.set_title(\"Posterior distribution of the\\n seventh mahine for hierarchical modeling\")\n",
    "\n",
    "\n",
    "fig.tight_layout()"
   ]
  },
  {
   "cell_type": "code",
   "execution_count": null,
   "metadata": {
    "collapsed": true
   },
   "outputs": [],
   "source": [
    "The tdistributions "
   ]
  }
 ],
 "metadata": {
  "kernelspec": {
   "display_name": "Python 3",
   "language": "python",
   "name": "python3"
  },
  "language_info": {
   "codemirror_mode": {
    "name": "ipython",
    "version": 3
   },
   "file_extension": ".py",
   "mimetype": "text/x-python",
   "name": "python",
   "nbconvert_exporter": "python",
   "pygments_lexer": "ipython3",
   "version": "3.6.1"
  }
 },
 "nbformat": 4,
 "nbformat_minor": 2
}
